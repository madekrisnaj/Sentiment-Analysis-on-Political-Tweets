{
 "cells": [
  {
   "cell_type": "markdown",
   "id": "e6dd50f5",
   "metadata": {},
   "source": [
    "# **0. Dataset Preparation**"
   ]
  },
  {
   "cell_type": "code",
   "execution_count": null,
   "id": "47bc1b93",
   "metadata": {},
   "outputs": [],
   "source": [
    "import pandas as pd\n",
    "import numpy as np\n",
    "import matplotlib.pyplot as plt\n",
    "import seaborn as sns\n",
    "import joblib\n",
    "import random\n",
    "import os\n",
    "\n",
    "from sklearn.model_selection import train_test_split\n",
    "from sklearn.preprocessing import LabelEncoder\n",
    "from sklearn.preprocessing import StandardScaler\n",
    "from sklearn.calibration import CalibratedClassifierCV\n",
    "from sklearn.linear_model import LogisticRegression\n",
    "from sklearn.metrics import accuracy_score, f1_score, classification_report, confusion_matrix\n",
    "from sklearn.model_selection import StratifiedKFold, learning_curve \n",
    "\n",
    "import tensorflow as tf\n",
    "from tensorflow.keras.callbacks import EarlyStopping, ReduceLROnPlateau, ModelCheckpoint # type: ignore\n",
    "from tensorflow.keras import layers, Model , regularizers # type: ignore\n",
    "\n",
    "from gensim.models import KeyedVectors\n",
    "import warnings\n",
    "warnings.filterwarnings(\"ignore\")"
   ]
  },
  {
   "cell_type": "code",
   "execution_count": 2,
   "id": "b01b9fc9",
   "metadata": {},
   "outputs": [],
   "source": [
    "os.environ[\"PYTHONHASHSEED\"] = \"42\"\n",
    "os.environ[\"TF_DETERMINISTIC_OPS\"] = \"1\"\n",
    "os.environ[\"TF_CUDNN_DETERMINISTIC\"] = \"1\"\n",
    "os.environ[\"TF_NUM_INTRAOP_THREADS\"] = \"1\"\n",
    "os.environ[\"TF_NUM_INTEROP_THREADS\"] = \"1\"\n",
    "random.seed(42); np.random.seed(42)\n",
    "\n",
    "tf.random.set_seed(42)"
   ]
  },
  {
   "cell_type": "code",
   "execution_count": null,
   "id": "a18264fa",
   "metadata": {},
   "outputs": [],
   "source": [
    "df = pd.read_csv('data/data_bersih.csv')\n",
    "text_col = 'tweet_pp'\n",
    "target_col = 'sentimen'\n",
    "\n",
    "cand_num = [\"n_words\",\"n_exclaim\",\"n_question\"]\n",
    "num_cols = [c for c in cand_num if c in df.columns]"
   ]
  },
  {
   "cell_type": "code",
   "execution_count": 4,
   "id": "ffd0cd9e",
   "metadata": {},
   "outputs": [
    {
     "name": "stdout",
     "output_type": "stream",
     "text": [
      "y classes: ['negatif', 'netral', 'positif']\n",
      "Split sizes -> train: 1269  val: 273  test: 273\n"
     ]
    }
   ],
   "source": [
    "# 1) Encode label\n",
    "le = LabelEncoder()\n",
    "y  = le.fit_transform(df[target_col].astype(str))\n",
    "\n",
    "# 2) Siapkan X teks & numerik\n",
    "X_text = df[text_col].astype(str).values\n",
    "X_num  = df[num_cols].copy() if num_cols else pd.DataFrame(index=df.index)\n",
    "\n",
    "# 3) Buat indeks split (dipakai ulang agar sinkron dengan auxiliary sarkasme)\n",
    "idx_all = np.arange(len(df))\n",
    "\n",
    "# 15% test, 15% val (dari sisa) -> kira-kira 70/15/15\n",
    "idx_tr_all, idx_te = train_test_split(\n",
    "    idx_all, test_size=0.15, random_state=42, stratify=y\n",
    ")\n",
    "idx_tr, idx_val = train_test_split(\n",
    "    idx_tr_all, test_size=0.1765, random_state=42, stratify=y[idx_tr_all]\n",
    ")\n",
    "\n",
    "# 4) Terapkan indeks ke X dan y\n",
    "X_tr_text, X_val_text, X_te_text = X_text[idx_tr], X_text[idx_val], X_text[idx_te]\n",
    "X_tr_num,  X_val_num,  X_te_num  = X_num.loc[idx_tr], X_num.loc[idx_val], X_num.loc[idx_te]\n",
    "y_tr, y_val, y_te = y[idx_tr], y[idx_val], y[idx_te]\n",
    "\n",
    "print(\"y classes:\", list(le.classes_))\n",
    "print(\"Split sizes -> train:\", len(y_tr), \" val:\", len(y_val), \" test:\", len(y_te))"
   ]
  },
  {
   "cell_type": "code",
   "execution_count": 50,
   "id": "055d6b85",
   "metadata": {},
   "outputs": [
    {
     "name": "stdout",
     "output_type": "stream",
     "text": [
      "Aux present: True | train w>0: 0 | val w>0: 0 | test w>0: 0\n"
     ]
    }
   ],
   "source": [
    "y_sarc_full = df[\"sarcasm_weak\"].astype(\"float32\").values\n",
    "w_sarc_full = df[\"sarcasm_conf\"].astype(\"float32\").values\n",
    "# NaN -> 0 (tidak berkontribusi ke loss melalui bobot 0)\n",
    "y_sarc_full = np.where(np.isnan(y_sarc_full), 0.0, y_sarc_full).astype(\"float32\")\n",
    "w_sarc_full = np.nan_to_num(w_sarc_full, nan=0.0).clip(0.0, 1.0).astype(\"float32\")\n",
    "\n",
    "y_sarc_full = np.zeros(len(df), dtype=\"float32\")\n",
    "w_sarc_full = np.zeros(len(df), dtype=\"float32\")    \n",
    "\n",
    "y_sarc_tr,  y_sarc_val,  y_sarc_te  = y_sarc_full[idx_tr],  y_sarc_full[idx_val],  y_sarc_full[idx_te]\n",
    "w_sarc_tr,  w_sarc_val,  w_sarc_te  = w_sarc_full[idx_tr],  w_sarc_full[idx_val],  w_sarc_full[idx_te]\n",
    "\n",
    "print(\"Aux present:\", has_sarc,\n",
    "      \"| train w>0:\", int((w_sarc_tr>0).sum()),\n",
    "      \"| val w>0:\",   int((w_sarc_val>0).sum()),\n",
    "      \"| test w>0:\",  int((w_sarc_te>0).sum()))"
   ]
  },
  {
   "cell_type": "markdown",
   "id": "d1c1635c",
   "metadata": {},
   "source": [
    "## Numerik Column Preparation"
   ]
  },
  {
   "cell_type": "code",
   "execution_count": 5,
   "id": "38886734",
   "metadata": {},
   "outputs": [
    {
     "name": "stdout",
     "output_type": "stream",
     "text": [
      "Numeric shapes -> train: (1269, 5) val: (273, 5) test: (273, 5)\n"
     ]
    }
   ],
   "source": [
    "X_tr_num[\"n_exclaim\"] = X_tr_num[\"n_exclaim\"].clip(upper=3)\n",
    "X_val_num[\"n_exclaim\"] = X_val_num[\"n_exclaim\"].clip(upper=3)\n",
    "X_te_num[\"n_exclaim\"]  = X_te_num[\"n_exclaim\"].clip(upper=3)\n",
    "\n",
    "X_tr_num[\"n_question\"] = X_tr_num[\"n_question\"].clip(upper=3)\n",
    "X_val_num[\"n_question\"] = X_val_num[\"n_question\"].clip(upper=3)\n",
    "X_te_num[\"n_question\"]  = X_te_num[\"n_question\"].clip(upper=3)\n",
    "\n",
    "scaler_num = StandardScaler(with_mean=True, with_std=True)\n",
    "Xtr_num_std = scaler_num.fit_transform(X_tr_num.fillna(0)) if num_cols else None\n",
    "Xval_num_std= scaler_num.transform(X_val_num.fillna(0))     if num_cols else None\n",
    "Xte_num_std = scaler_num.transform(X_te_num.fillna(0))      if num_cols else None\n",
    "\n",
    "print(\"Numeric shapes ->\",\n",
    "      \"train:\", None if Xtr_num_std is None else Xtr_num_std.shape,\n",
    "      \"val:\",   None if Xval_num_std is None else Xval_num_std.shape,\n",
    "      \"test:\",  None if Xte_num_std is None else Xte_num_std.shape)\n"
   ]
  },
  {
   "cell_type": "code",
   "execution_count": 6,
   "id": "a1feb60b",
   "metadata": {},
   "outputs": [
    {
     "data": {
      "text/plain": [
       "array([[ 1.15660506, -0.24552698, -0.40935044,  1.52095888,  1.70429322],\n",
       "       [ 2.03701525, -0.24552698, -0.40935044, -0.65747997, -0.58675349],\n",
       "       [ 1.42072812, -0.24552698, -0.40935044,  1.52095888,  1.70429322],\n",
       "       ...,\n",
       "       [ 1.06856405, -0.24552698, -0.40935044, -0.65747997, -0.58675349],\n",
       "       [-0.0759692 , -0.24552698, -0.40935044, -0.65747997,  1.70429322],\n",
       "       [-0.0759692 , -0.24552698, -0.40935044,  1.52095888,  1.70429322]])"
      ]
     },
     "execution_count": 6,
     "metadata": {},
     "output_type": "execute_result"
    }
   ],
   "source": [
    "Xtr_num_std"
   ]
  },
  {
   "cell_type": "code",
   "execution_count": 7,
   "id": "ea5577d0",
   "metadata": {},
   "outputs": [
    {
     "data": {
      "text/plain": [
       "array(['hmm, calon presiden 02 bilang didebat keadaan ekonomi indonesia saat ini bukan salah <user> tapi salah pemimpin pemimpin terdahulu. jadi untuk penggemar 02 jangan salahkan jokowi lagi ya karena bosmu sudah bilang itu bukan salah jokowi. <url> #prabowosalahkansby prabowosalahkansby',\n",
       "       'sudah manusia kurang pergaulan macam kamu tidak mengerti mobile legend jangan sok sok berbicara begitu, nanti tol langit kamu sangka jalan yol di atas langit,, akum sampah jangan berbicara tinggi yang tidak paham atinya,, biasa main di gua terus di gaji buat jadi buzzer ya mana mengerti bahasa kamu',\n",
       "       'model ngeles petruk sudah ketaker ber-busa busa di depan sandi membicarakan ekonomi makro dengan congkaknya untung sandi nya sabar tidak di kick balik pantas saja menteri2nya yang pintar pintar pada mbodoni , lah juragannya kayak begini pek*k nya .. #uasdifitnahkejibalasditps <user> <user>',\n",
       "       ...,\n",
       "       'rakyat ingin pekerjaan, pekerjanya diimpor dari cina. rakyat panen padi, berasnya impor. rakyat ingin sembako murah, suruh tanam sendiri. petani karet meminta kenaikan harga, suruh tanam jengkol.. jokowi memang tau kemauan rakyat.. ya rabi, semoga otakku masih sehat.',\n",
       "       'lihat video ini menetes juga air mata. kita doakan semoga <user> <user> menang agar nasib ekonomi para ojek online bisa lebih baik lagi aaminn tm',\n",
       "       'di debat terakhir jokowi menasihati pasangan calon 02 soal pengelolaan ekonomi makro. ini membuktikan bahwa jokowi menguasai persoalan ekonomi. #01jokowiamin #jokowimenangtotaldebat <user> <user> <user> <url>'],\n",
       "      dtype=object)"
      ]
     },
     "execution_count": 7,
     "metadata": {},
     "output_type": "execute_result"
    }
   ],
   "source": [
    "X_tr_text"
   ]
  },
  {
   "cell_type": "markdown",
   "id": "de7b7d8d",
   "metadata": {},
   "source": [
    "# **1. Tokenization and Padding**"
   ]
  },
  {
   "cell_type": "code",
   "execution_count": null,
   "id": "6d06e741",
   "metadata": {},
   "outputs": [],
   "source": [
    "from tensorflow.keras.preprocessing.text import Tokenizer # type: ignore\n",
    "from tensorflow.keras.preprocessing.sequence import pad_sequences # type: ignore\n",
    "from sklearn.feature_extraction.text import TfidfVectorizer\n",
    "from sklearn.compose import ColumnTransformer\n",
    "from sklearn.pipeline import Pipeline\n",
    "from sklearn.decomposition import TruncatedSVD"
   ]
  },
  {
   "cell_type": "markdown",
   "id": "8c55b54a",
   "metadata": {},
   "source": [
    "## Sequence Model"
   ]
  },
  {
   "cell_type": "code",
   "execution_count": 9,
   "id": "0672edba",
   "metadata": {},
   "outputs": [
    {
     "name": "stdout",
     "output_type": "stream",
     "text": [
      "Vocab size: 5114 | seq shapes -> train: (1269, 48) val: (273, 48) test: (273, 48)\n"
     ]
    }
   ],
   "source": [
    "max_words = 12000\n",
    "max_len   = 48\n",
    "\n",
    "# Fit tokenizer di teks train\n",
    "tok = Tokenizer(num_words=max_words, oov_token=\"<OOV>\")\n",
    "tok.fit_on_texts(X_tr_text)\n",
    "\n",
    "def to_pad(x):\n",
    "    return pad_sequences(tok.texts_to_sequences(x), maxlen=max_len, padding=\"post\", truncating=\"post\")\n",
    "\n",
    "Xtr_pad  = to_pad(X_tr_text)\n",
    "Xval_pad = to_pad(X_val_text)\n",
    "Xte_pad  = to_pad(X_te_text)\n",
    "\n",
    "vocab_size = min(max_words, len(tok.word_index) + 1)\n",
    "\n",
    "print(\"Vocab size:\", vocab_size, \"| seq shapes ->\",\n",
    "      \"train:\", Xtr_pad.shape, \"val:\", Xval_pad.shape, \"test:\", Xte_pad.shape)"
   ]
  },
  {
   "cell_type": "markdown",
   "id": "24aa4dd0",
   "metadata": {},
   "source": [
    "## TF-IDF untuk LogRegression, SVM, MLP"
   ]
  },
  {
   "cell_type": "code",
   "execution_count": 10,
   "id": "9d191b86",
   "metadata": {},
   "outputs": [
    {
     "name": "stdout",
     "output_type": "stream",
     "text": [
      "TF-IDF sparse -> (1269, 5340) (273, 5340) (273, 5340)\n",
      "TF-IDF→SVD    -> (1269, 300) (273, 300) (273, 300)\n"
     ]
    }
   ],
   "source": [
    "# DataFrame minimal untuk ColumnTransformer\n",
    "df_tr  = pd.DataFrame({text_col: X_tr_text})\n",
    "df_val = pd.DataFrame({text_col: X_val_text})\n",
    "df_te  = pd.DataFrame({text_col: X_te_text})\n",
    "for c in num_cols:\n",
    "    df_tr[c], df_val[c], df_te[c] = X_tr_num[c].values, X_val_num[c].values, X_te_num[c].values\n",
    "\n",
    "tfidf_word = TfidfVectorizer(ngram_range=(1,2), min_df=2, max_df=0.9)\n",
    "\n",
    "ct_sparse = ColumnTransformer(\n",
    "    transformers=[\n",
    "        (\"tf\",  tfidf_word, text_col),\n",
    "        (\"num\", \"passthrough\", num_cols)\n",
    "    ],\n",
    "    remainder=\"drop\",\n",
    "    sparse_threshold=1.0\n",
    ")\n",
    "\n",
    "pipe_tfidf_svd = Pipeline([\n",
    "    (\"ct\",  ct_sparse),\n",
    "    (\"svd\", TruncatedSVD(n_components=300, random_state=42))\n",
    "])\n",
    "\n",
    "Xtr_tfidf  = ct_sparse.fit_transform(df_tr)\n",
    "Xval_tfidf = ct_sparse.transform(df_val)\n",
    "Xte_tfidf  = ct_sparse.transform(df_te)\n",
    "\n",
    "Xtr_svd  = pipe_tfidf_svd.fit_transform(df_tr)\n",
    "Xval_svd = pipe_tfidf_svd.transform(df_val)\n",
    "Xte_svd  = pipe_tfidf_svd.transform(df_te)\n",
    "\n",
    "print(\"TF-IDF sparse ->\", Xtr_tfidf.shape, Xval_tfidf.shape, Xte_tfidf.shape)\n",
    "print(\"TF-IDF→SVD    ->\", Xtr_svd.shape,   Xval_svd.shape,   Xte_svd.shape)"
   ]
  },
  {
   "cell_type": "markdown",
   "id": "103ebb09",
   "metadata": {},
   "source": [
    "## Class Weight"
   ]
  },
  {
   "cell_type": "code",
   "execution_count": 11,
   "id": "34260f03",
   "metadata": {},
   "outputs": [
    {
     "name": "stdout",
     "output_type": "stream",
     "text": [
      "Class weight (train): {0: 1.0168269230769231, 1: 0.9952941176470588, 2: 0.9883177570093458}\n"
     ]
    }
   ],
   "source": [
    "from sklearn.utils.class_weight import compute_class_weight\n",
    "\n",
    "classes      = np.unique(y_tr)\n",
    "weights      = compute_class_weight(class_weight=\"balanced\", classes=classes, y=y_tr)\n",
    "class_weight = {int(k): float(v) for k,v in zip(classes, weights)}\n",
    "\n",
    "print(\"Class weight (train):\", class_weight)"
   ]
  },
  {
   "cell_type": "markdown",
   "id": "97285117",
   "metadata": {},
   "source": [
    "## Embedding"
   ]
  },
  {
   "cell_type": "code",
   "execution_count": 88,
   "id": "d2651af9",
   "metadata": {},
   "outputs": [
    {
     "name": "stdout",
     "output_type": "stream",
     "text": [
      "[fastText.vec] dim=300, vocab=2,000,000\n"
     ]
    }
   ],
   "source": [
    "VEC_PATH = \"embeddings/cc.id.300.vec\"   \n",
    "assert os.path.isfile(VEC_PATH), f\"Tidak ditemukan: {VEC_PATH}\"\n",
    "kv = KeyedVectors.load_word2vec_format(VEC_PATH, binary=False) # type: ignore\n",
    "dim = kv.vector_size\n",
    "print(f\"[fastText.vec] dim={dim}, vocab={len(kv.key_to_index):,}\")"
   ]
  },
  {
   "cell_type": "code",
   "execution_count": null,
   "id": "3992cb61",
   "metadata": {},
   "outputs": [],
   "source": [
    "# Xtr_emb, Xval_emb, Xte_emb, kv, dim = joblib.load(\"cache/avg_fasttext_vec.pkl\")"
   ]
  },
  {
   "cell_type": "code",
   "execution_count": 89,
   "id": "43896376",
   "metadata": {},
   "outputs": [],
   "source": [
    "def avg_vec(texts):\n",
    "    X = np.zeros((len(texts), dim), dtype=\"float32\")\n",
    "    for i, t in enumerate(texts):\n",
    "        toks = t.split()\n",
    "        vecs = [kv[w] for w in toks if w in kv]\n",
    "        if vecs: X[i] = np.mean(vecs, axis=0)\n",
    "    return X\n",
    "\n",
    "Xtr_emb  = avg_vec(X_tr_text)\n",
    "Xval_emb = avg_vec(X_val_text)\n",
    "Xte_emb  = avg_vec(X_te_text)"
   ]
  },
  {
   "cell_type": "code",
   "execution_count": 90,
   "id": "bb9a21fa",
   "metadata": {},
   "outputs": [
    {
     "data": {
      "text/plain": [
       "['cache/avg_fasttext_vec.pkl']"
      ]
     },
     "execution_count": 90,
     "metadata": {},
     "output_type": "execute_result"
    }
   ],
   "source": [
    "os.makedirs(\"cache\", exist_ok=True)\n",
    "joblib.dump((Xtr_emb, Xval_emb, Xte_emb, kv, dim), \"cache/avg_fasttext_vec.pkl\")"
   ]
  },
  {
   "cell_type": "code",
   "execution_count": 13,
   "id": "9f90c95b",
   "metadata": {},
   "outputs": [
    {
     "name": "stdout",
     "output_type": "stream",
     "text": [
      "Shapes: train (1269, 305) | val (273, 305) | test (273, 305)\n"
     ]
    }
   ],
   "source": [
    "Xtr = np.hstack([Xtr_emb,  Xtr_num_std])\n",
    "Xval= np.hstack([Xval_emb, Xval_num_std])\n",
    "Xte = np.hstack([Xte_emb,  Xte_num_std])\n",
    "print(\"Shapes:\", \"train\", Xtr.shape, \"| val\", Xval.shape, \"| test\", Xte.shape)"
   ]
  },
  {
   "cell_type": "markdown",
   "id": "75c3db46",
   "metadata": {},
   "source": [
    "# **2. Model CNN**"
   ]
  },
  {
   "cell_type": "code",
   "execution_count": 99,
   "id": "9fb676ef",
   "metadata": {},
   "outputs": [
    {
     "name": "stdout",
     "output_type": "stream",
     "text": [
      "Embedding matrix shape: (5114, 300)\n"
     ]
    }
   ],
   "source": [
    "if 'embedding_matrix' not in globals():\n",
    "    embedding_dim = dim  # dari kv.vector_size\n",
    "    embedding_matrix = np.zeros((vocab_size, embedding_dim), dtype=\"float32\")\n",
    "    for word, idx in tok.word_index.items():\n",
    "        if idx >= vocab_size: \n",
    "            continue\n",
    "        if word in kv:\n",
    "            embedding_matrix[idx] = kv[word]\n",
    "print(\"Embedding matrix shape:\", embedding_matrix.shape)"
   ]
  },
  {
   "cell_type": "code",
   "execution_count": 100,
   "id": "8e2728f8",
   "metadata": {},
   "outputs": [
    {
     "name": "stdout",
     "output_type": "stream",
     "text": [
      "Configured -> categorical_crossentropy | out_units: 3 | act: softmax\n"
     ]
    }
   ],
   "source": [
    "n_classes = len(le.classes_)\n",
    "if n_classes == 2:\n",
    "    y_tr_oh, y_val_oh, y_te_oh = y_tr, y_val, y_te\n",
    "    out_units, out_activation, loss_fn = 1, \"sigmoid\", \"binary_crossentropy\"\n",
    "else:\n",
    "    y_tr_oh  = to_categorical(y_tr,  num_classes=n_classes)\n",
    "    y_val_oh = to_categorical(y_val, num_classes=n_classes)\n",
    "    y_te_oh  = to_categorical(y_te,  num_classes=n_classes)\n",
    "    out_units, out_activation, loss_fn = n_classes, \"softmax\", \"categorical_crossentropy\"\n",
    "\n",
    "print(\"Configured ->\", loss_fn, \"| out_units:\", out_units, \"| act:\", out_activation)\n",
    "\n",
    "# class weight tipis berbasis 'class_weight' yang SUDAH ADA\n",
    "class_weight_thin = {int(k): float(0.5 + 0.5*v) for k, v in class_weight.items()}"
   ]
  },
  {
   "cell_type": "code",
   "execution_count": 101,
   "id": "52258398",
   "metadata": {},
   "outputs": [
    {
     "data": {
      "text/html": [
       "<pre style=\"white-space:pre;overflow-x:auto;line-height:normal;font-family:Menlo,'DejaVu Sans Mono',consolas,'Courier New',monospace\"><span style=\"font-weight: bold\">Model: \"CNN_Emb_warmstart_NUM\"</span>\n",
       "</pre>\n"
      ],
      "text/plain": [
       "\u001b[1mModel: \"CNN_Emb_warmstart_NUM\"\u001b[0m\n"
      ]
     },
     "metadata": {},
     "output_type": "display_data"
    },
    {
     "data": {
      "text/html": [
       "<pre style=\"white-space:pre;overflow-x:auto;line-height:normal;font-family:Menlo,'DejaVu Sans Mono',consolas,'Courier New',monospace\">┏━━━━━━━━━━━━━━━━━━━━━┳━━━━━━━━━━━━━━━━━━━┳━━━━━━━━━━━━┳━━━━━━━━━━━━━━━━━━━┓\n",
       "┃<span style=\"font-weight: bold\"> Layer (type)        </span>┃<span style=\"font-weight: bold\"> Output Shape      </span>┃<span style=\"font-weight: bold\">    Param # </span>┃<span style=\"font-weight: bold\"> Connected to      </span>┃\n",
       "┡━━━━━━━━━━━━━━━━━━━━━╇━━━━━━━━━━━━━━━━━━━╇━━━━━━━━━━━━╇━━━━━━━━━━━━━━━━━━━┩\n",
       "│ seq_in (<span style=\"color: #0087ff; text-decoration-color: #0087ff\">InputLayer</span>) │ (<span style=\"color: #00d7ff; text-decoration-color: #00d7ff\">None</span>, <span style=\"color: #00af00; text-decoration-color: #00af00\">48</span>)        │          <span style=\"color: #00af00; text-decoration-color: #00af00\">0</span> │ -                 │\n",
       "├─────────────────────┼───────────────────┼────────────┼───────────────────┤\n",
       "│ embedding_glove_cnn │ (<span style=\"color: #00d7ff; text-decoration-color: #00d7ff\">None</span>, <span style=\"color: #00af00; text-decoration-color: #00af00\">48</span>, <span style=\"color: #00af00; text-decoration-color: #00af00\">300</span>)   │  <span style=\"color: #00af00; text-decoration-color: #00af00\">1,534,200</span> │ seq_in[<span style=\"color: #00af00; text-decoration-color: #00af00\">0</span>][<span style=\"color: #00af00; text-decoration-color: #00af00\">0</span>]      │\n",
       "│ (<span style=\"color: #0087ff; text-decoration-color: #0087ff\">Embedding</span>)         │                   │            │                   │\n",
       "├─────────────────────┼───────────────────┼────────────┼───────────────────┤\n",
       "│ num_in (<span style=\"color: #0087ff; text-decoration-color: #0087ff\">InputLayer</span>) │ (<span style=\"color: #00d7ff; text-decoration-color: #00d7ff\">None</span>, <span style=\"color: #00af00; text-decoration-color: #00af00\">5</span>)         │          <span style=\"color: #00af00; text-decoration-color: #00af00\">0</span> │ -                 │\n",
       "├─────────────────────┼───────────────────┼────────────┼───────────────────┤\n",
       "│ conv1 (<span style=\"color: #0087ff; text-decoration-color: #0087ff\">Conv1D</span>)      │ (<span style=\"color: #00d7ff; text-decoration-color: #00d7ff\">None</span>, <span style=\"color: #00af00; text-decoration-color: #00af00\">44</span>, <span style=\"color: #00af00; text-decoration-color: #00af00\">128</span>)   │    <span style=\"color: #00af00; text-decoration-color: #00af00\">192,128</span> │ embedding_glove_… │\n",
       "├─────────────────────┼───────────────────┼────────────┼───────────────────┤\n",
       "│ bn_num              │ (<span style=\"color: #00d7ff; text-decoration-color: #00d7ff\">None</span>, <span style=\"color: #00af00; text-decoration-color: #00af00\">5</span>)         │         <span style=\"color: #00af00; text-decoration-color: #00af00\">20</span> │ num_in[<span style=\"color: #00af00; text-decoration-color: #00af00\">0</span>][<span style=\"color: #00af00; text-decoration-color: #00af00\">0</span>]      │\n",
       "│ (<span style=\"color: #0087ff; text-decoration-color: #0087ff\">BatchNormalizatio…</span> │                   │            │                   │\n",
       "├─────────────────────┼───────────────────┼────────────┼───────────────────┤\n",
       "│ gmp                 │ (<span style=\"color: #00d7ff; text-decoration-color: #00d7ff\">None</span>, <span style=\"color: #00af00; text-decoration-color: #00af00\">128</span>)       │          <span style=\"color: #00af00; text-decoration-color: #00af00\">0</span> │ conv1[<span style=\"color: #00af00; text-decoration-color: #00af00\">0</span>][<span style=\"color: #00af00; text-decoration-color: #00af00\">0</span>]       │\n",
       "│ (<span style=\"color: #0087ff; text-decoration-color: #0087ff\">GlobalMaxPooling1…</span> │                   │            │                   │\n",
       "├─────────────────────┼───────────────────┼────────────┼───────────────────┤\n",
       "│ num_proj (<span style=\"color: #0087ff; text-decoration-color: #0087ff\">Dense</span>)    │ (<span style=\"color: #00d7ff; text-decoration-color: #00d7ff\">None</span>, <span style=\"color: #00af00; text-decoration-color: #00af00\">8</span>)         │         <span style=\"color: #00af00; text-decoration-color: #00af00\">48</span> │ bn_num[<span style=\"color: #00af00; text-decoration-color: #00af00\">0</span>][<span style=\"color: #00af00; text-decoration-color: #00af00\">0</span>]      │\n",
       "├─────────────────────┼───────────────────┼────────────┼───────────────────┤\n",
       "│ concat_text_num     │ (<span style=\"color: #00d7ff; text-decoration-color: #00d7ff\">None</span>, <span style=\"color: #00af00; text-decoration-color: #00af00\">136</span>)       │          <span style=\"color: #00af00; text-decoration-color: #00af00\">0</span> │ gmp[<span style=\"color: #00af00; text-decoration-color: #00af00\">0</span>][<span style=\"color: #00af00; text-decoration-color: #00af00\">0</span>],        │\n",
       "│ (<span style=\"color: #0087ff; text-decoration-color: #0087ff\">Concatenate</span>)       │                   │            │ num_proj[<span style=\"color: #00af00; text-decoration-color: #00af00\">0</span>][<span style=\"color: #00af00; text-decoration-color: #00af00\">0</span>]    │\n",
       "├─────────────────────┼───────────────────┼────────────┼───────────────────┤\n",
       "│ dense10 (<span style=\"color: #0087ff; text-decoration-color: #0087ff\">Dense</span>)     │ (<span style=\"color: #00d7ff; text-decoration-color: #00d7ff\">None</span>, <span style=\"color: #00af00; text-decoration-color: #00af00\">10</span>)        │      <span style=\"color: #00af00; text-decoration-color: #00af00\">1,370</span> │ concat_text_num[<span style=\"color: #00af00; text-decoration-color: #00af00\">…</span> │\n",
       "├─────────────────────┼───────────────────┼────────────┼───────────────────┤\n",
       "│ output (<span style=\"color: #0087ff; text-decoration-color: #0087ff\">Dense</span>)      │ (<span style=\"color: #00d7ff; text-decoration-color: #00d7ff\">None</span>, <span style=\"color: #00af00; text-decoration-color: #00af00\">3</span>)         │         <span style=\"color: #00af00; text-decoration-color: #00af00\">33</span> │ dense10[<span style=\"color: #00af00; text-decoration-color: #00af00\">0</span>][<span style=\"color: #00af00; text-decoration-color: #00af00\">0</span>]     │\n",
       "└─────────────────────┴───────────────────┴────────────┴───────────────────┘\n",
       "</pre>\n"
      ],
      "text/plain": [
       "┏━━━━━━━━━━━━━━━━━━━━━┳━━━━━━━━━━━━━━━━━━━┳━━━━━━━━━━━━┳━━━━━━━━━━━━━━━━━━━┓\n",
       "┃\u001b[1m \u001b[0m\u001b[1mLayer (type)       \u001b[0m\u001b[1m \u001b[0m┃\u001b[1m \u001b[0m\u001b[1mOutput Shape     \u001b[0m\u001b[1m \u001b[0m┃\u001b[1m \u001b[0m\u001b[1m   Param #\u001b[0m\u001b[1m \u001b[0m┃\u001b[1m \u001b[0m\u001b[1mConnected to     \u001b[0m\u001b[1m \u001b[0m┃\n",
       "┡━━━━━━━━━━━━━━━━━━━━━╇━━━━━━━━━━━━━━━━━━━╇━━━━━━━━━━━━╇━━━━━━━━━━━━━━━━━━━┩\n",
       "│ seq_in (\u001b[38;5;33mInputLayer\u001b[0m) │ (\u001b[38;5;45mNone\u001b[0m, \u001b[38;5;34m48\u001b[0m)        │          \u001b[38;5;34m0\u001b[0m │ -                 │\n",
       "├─────────────────────┼───────────────────┼────────────┼───────────────────┤\n",
       "│ embedding_glove_cnn │ (\u001b[38;5;45mNone\u001b[0m, \u001b[38;5;34m48\u001b[0m, \u001b[38;5;34m300\u001b[0m)   │  \u001b[38;5;34m1,534,200\u001b[0m │ seq_in[\u001b[38;5;34m0\u001b[0m][\u001b[38;5;34m0\u001b[0m]      │\n",
       "│ (\u001b[38;5;33mEmbedding\u001b[0m)         │                   │            │                   │\n",
       "├─────────────────────┼───────────────────┼────────────┼───────────────────┤\n",
       "│ num_in (\u001b[38;5;33mInputLayer\u001b[0m) │ (\u001b[38;5;45mNone\u001b[0m, \u001b[38;5;34m5\u001b[0m)         │          \u001b[38;5;34m0\u001b[0m │ -                 │\n",
       "├─────────────────────┼───────────────────┼────────────┼───────────────────┤\n",
       "│ conv1 (\u001b[38;5;33mConv1D\u001b[0m)      │ (\u001b[38;5;45mNone\u001b[0m, \u001b[38;5;34m44\u001b[0m, \u001b[38;5;34m128\u001b[0m)   │    \u001b[38;5;34m192,128\u001b[0m │ embedding_glove_… │\n",
       "├─────────────────────┼───────────────────┼────────────┼───────────────────┤\n",
       "│ bn_num              │ (\u001b[38;5;45mNone\u001b[0m, \u001b[38;5;34m5\u001b[0m)         │         \u001b[38;5;34m20\u001b[0m │ num_in[\u001b[38;5;34m0\u001b[0m][\u001b[38;5;34m0\u001b[0m]      │\n",
       "│ (\u001b[38;5;33mBatchNormalizatio…\u001b[0m │                   │            │                   │\n",
       "├─────────────────────┼───────────────────┼────────────┼───────────────────┤\n",
       "│ gmp                 │ (\u001b[38;5;45mNone\u001b[0m, \u001b[38;5;34m128\u001b[0m)       │          \u001b[38;5;34m0\u001b[0m │ conv1[\u001b[38;5;34m0\u001b[0m][\u001b[38;5;34m0\u001b[0m]       │\n",
       "│ (\u001b[38;5;33mGlobalMaxPooling1…\u001b[0m │                   │            │                   │\n",
       "├─────────────────────┼───────────────────┼────────────┼───────────────────┤\n",
       "│ num_proj (\u001b[38;5;33mDense\u001b[0m)    │ (\u001b[38;5;45mNone\u001b[0m, \u001b[38;5;34m8\u001b[0m)         │         \u001b[38;5;34m48\u001b[0m │ bn_num[\u001b[38;5;34m0\u001b[0m][\u001b[38;5;34m0\u001b[0m]      │\n",
       "├─────────────────────┼───────────────────┼────────────┼───────────────────┤\n",
       "│ concat_text_num     │ (\u001b[38;5;45mNone\u001b[0m, \u001b[38;5;34m136\u001b[0m)       │          \u001b[38;5;34m0\u001b[0m │ gmp[\u001b[38;5;34m0\u001b[0m][\u001b[38;5;34m0\u001b[0m],        │\n",
       "│ (\u001b[38;5;33mConcatenate\u001b[0m)       │                   │            │ num_proj[\u001b[38;5;34m0\u001b[0m][\u001b[38;5;34m0\u001b[0m]    │\n",
       "├─────────────────────┼───────────────────┼────────────┼───────────────────┤\n",
       "│ dense10 (\u001b[38;5;33mDense\u001b[0m)     │ (\u001b[38;5;45mNone\u001b[0m, \u001b[38;5;34m10\u001b[0m)        │      \u001b[38;5;34m1,370\u001b[0m │ concat_text_num[\u001b[38;5;34m…\u001b[0m │\n",
       "├─────────────────────┼───────────────────┼────────────┼───────────────────┤\n",
       "│ output (\u001b[38;5;33mDense\u001b[0m)      │ (\u001b[38;5;45mNone\u001b[0m, \u001b[38;5;34m3\u001b[0m)         │         \u001b[38;5;34m33\u001b[0m │ dense10[\u001b[38;5;34m0\u001b[0m][\u001b[38;5;34m0\u001b[0m]     │\n",
       "└─────────────────────┴───────────────────┴────────────┴───────────────────┘\n"
      ]
     },
     "metadata": {},
     "output_type": "display_data"
    },
    {
     "data": {
      "text/html": [
       "<pre style=\"white-space:pre;overflow-x:auto;line-height:normal;font-family:Menlo,'DejaVu Sans Mono',consolas,'Courier New',monospace\"><span style=\"font-weight: bold\"> Total params: </span><span style=\"color: #00af00; text-decoration-color: #00af00\">1,727,799</span> (6.59 MB)\n",
       "</pre>\n"
      ],
      "text/plain": [
       "\u001b[1m Total params: \u001b[0m\u001b[38;5;34m1,727,799\u001b[0m (6.59 MB)\n"
      ]
     },
     "metadata": {},
     "output_type": "display_data"
    },
    {
     "data": {
      "text/html": [
       "<pre style=\"white-space:pre;overflow-x:auto;line-height:normal;font-family:Menlo,'DejaVu Sans Mono',consolas,'Courier New',monospace\"><span style=\"font-weight: bold\"> Trainable params: </span><span style=\"color: #00af00; text-decoration-color: #00af00\">193,589</span> (756.21 KB)\n",
       "</pre>\n"
      ],
      "text/plain": [
       "\u001b[1m Trainable params: \u001b[0m\u001b[38;5;34m193,589\u001b[0m (756.21 KB)\n"
      ]
     },
     "metadata": {},
     "output_type": "display_data"
    },
    {
     "data": {
      "text/html": [
       "<pre style=\"white-space:pre;overflow-x:auto;line-height:normal;font-family:Menlo,'DejaVu Sans Mono',consolas,'Courier New',monospace\"><span style=\"font-weight: bold\"> Non-trainable params: </span><span style=\"color: #00af00; text-decoration-color: #00af00\">1,534,210</span> (5.85 MB)\n",
       "</pre>\n"
      ],
      "text/plain": [
       "\u001b[1m Non-trainable params: \u001b[0m\u001b[38;5;34m1,534,210\u001b[0m (5.85 MB)\n"
      ]
     },
     "metadata": {},
     "output_type": "display_data"
    }
   ],
   "source": [
    "have_num = Xtr_num_std is not None and Xtr_num_std.shape[1] > 0\n",
    "seq_len  = Xtr_pad.shape[1]\n",
    "embedding_dim = embedding_matrix.shape[1]\n",
    "\n",
    "# ---- Definisi model (Embedding awalnya frozen; akan di-unfreeze setelah warm-start) ----\n",
    "seq_in = layers.Input(shape=(seq_len,), name=\"seq_in\")\n",
    "emb    = layers.Embedding(\n",
    "    input_dim=vocab_size,\n",
    "    output_dim=embedding_dim,\n",
    "    weights=[embedding_matrix],\n",
    "    input_length=seq_len,\n",
    "    trainable=False,               # warm-start: frozen dulu 2–3 epoch\n",
    "    name=\"embedding_glove_cnn\"\n",
    ")(seq_in)\n",
    "\n",
    "cnn1   = layers.Conv1D(128, 5, activation='relu', padding=\"valid\", name=\"conv1\")(emb)\n",
    "t_vec  = layers.GlobalMaxPool1D(name=\"gmp\")(cnn1)  # sesuai sketsa arsitektur Anda\n",
    "\n",
    "if have_num:\n",
    "    num_in = layers.Input(shape=(Xtr_num_std.shape[1],), name=\"num_in\")\n",
    "    h_num  = layers.BatchNormalization(name=\"bn_num\")(num_in)\n",
    "    h_num  = layers.Dense(8, activation='relu', name=\"num_proj\")(h_num)\n",
    "    feat   = layers.Concatenate(name=\"concat_text_num\")([t_vec, h_num])\n",
    "    inputs = [seq_in, num_in]\n",
    "else:\n",
    "    feat   = t_vec\n",
    "    inputs = seq_in\n",
    "\n",
    "h      = layers.Dense(10, activation='relu', name=\"dense10\")(feat)  # mengikuti sketsa\n",
    "out    = layers.Dense(out_units, activation=out_activation, name=\"output\")(h)\n",
    "\n",
    "cnn_model = Model(inputs, out, name=\"CNN_Emb_warmstart_NUM\")\n",
    "cnn_model.summary()"
   ]
  },
  {
   "cell_type": "code",
   "execution_count": 102,
   "id": "bb6663ea",
   "metadata": {},
   "outputs": [],
   "source": [
    "cnn_model.compile(\n",
    "    optimizer=tf.keras.optimizers.Adam(1e-3),\n",
    "    loss=loss_fn,\n",
    "    metrics=[\"accuracy\"]\n",
    ")\n",
    "\n",
    "ckpt_warm = \"best_cnn_warm.h5\"\n",
    "cbs_warm = [\n",
    "    ModelCheckpoint(ckpt_warm, monitor=\"val_accuracy\", mode=\"max\", save_best_only=True, verbose=1),\n",
    "    EarlyStopping(monitor=\"val_accuracy\", mode=\"max\", patience=2, restore_best_weights=True, verbose=1),\n",
    "    ReduceLROnPlateau(monitor=\"val_loss\", factor=0.5, patience=1, verbose=1)\n",
    "]\n",
    "\n",
    "Xtr_in   = [Xtr_pad, Xtr_num_std]   if have_num else Xtr_pad\n",
    "Xval_in  = [Xval_pad, Xval_num_std] if have_num else Xval_pad"
   ]
  },
  {
   "cell_type": "code",
   "execution_count": 110,
   "id": "b1a41721",
   "metadata": {},
   "outputs": [
    {
     "name": "stdout",
     "output_type": "stream",
     "text": [
      "Epoch 1/20\n"
     ]
    },
    {
     "name": "stdout",
     "output_type": "stream",
     "text": [
      "\u001b[1m79/80\u001b[0m \u001b[32m━━━━━━━━━━━━━━━━━━━\u001b[0m\u001b[37m━\u001b[0m \u001b[1m0s\u001b[0m 33ms/step - accuracy: 0.9343 - loss: 0.2772\n",
      "Epoch 1: val_accuracy improved from 0.62271 to 0.63736, saving model to best_cnn_warm.h5\n"
     ]
    },
    {
     "name": "stderr",
     "output_type": "stream",
     "text": [
      "WARNING:absl:You are saving your model as an HDF5 file via `model.save()` or `keras.saving.save_model(model)`. This file format is considered legacy. We recommend using instead the native Keras format, e.g. `model.save('my_model.keras')` or `keras.saving.save_model(model, 'my_model.keras')`. \n"
     ]
    },
    {
     "name": "stdout",
     "output_type": "stream",
     "text": [
      "\n",
      "Epoch 1: ReduceLROnPlateau reducing learning rate to 0.0001250000059371814.\n",
      "\u001b[1m80/80\u001b[0m \u001b[32m━━━━━━━━━━━━━━━━━━━━\u001b[0m\u001b[37m\u001b[0m \u001b[1m3s\u001b[0m 38ms/step - accuracy: 0.9496 - loss: 0.2537 - val_accuracy: 0.6374 - val_loss: 0.8822 - learning_rate: 2.5000e-04\n",
      "Epoch 2/20\n",
      "\u001b[1m79/80\u001b[0m \u001b[32m━━━━━━━━━━━━━━━━━━━\u001b[0m\u001b[37m━\u001b[0m \u001b[1m0s\u001b[0m 33ms/step - accuracy: 0.9640 - loss: 0.2005\n",
      "Epoch 2: val_accuracy did not improve from 0.63736\n",
      "\n",
      "Epoch 2: ReduceLROnPlateau reducing learning rate to 6.25000029685907e-05.\n",
      "\u001b[1m80/80\u001b[0m \u001b[32m━━━━━━━━━━━━━━━━━━━━\u001b[0m\u001b[37m\u001b[0m \u001b[1m3s\u001b[0m 35ms/step - accuracy: 0.9756 - loss: 0.1823 - val_accuracy: 0.6374 - val_loss: 0.8979 - learning_rate: 1.2500e-04\n",
      "Epoch 3/20\n",
      "\u001b[1m79/80\u001b[0m \u001b[32m━━━━━━━━━━━━━━━━━━━\u001b[0m\u001b[37m━\u001b[0m \u001b[1m0s\u001b[0m 33ms/step - accuracy: 0.9715 - loss: 0.1679\n",
      "Epoch 3: val_accuracy did not improve from 0.63736\n",
      "\n",
      "Epoch 3: ReduceLROnPlateau reducing learning rate to 3.125000148429535e-05.\n",
      "\u001b[1m80/80\u001b[0m \u001b[32m━━━━━━━━━━━━━━━━━━━━\u001b[0m\u001b[37m\u001b[0m \u001b[1m3s\u001b[0m 36ms/step - accuracy: 0.9803 - loss: 0.1545 - val_accuracy: 0.6300 - val_loss: 0.8946 - learning_rate: 6.2500e-05\n",
      "Epoch 3: early stopping\n",
      "Restoring model weights from the end of the best epoch: 1.\n"
     ]
    }
   ],
   "source": [
    "history_warm = cnn_model.fit(\n",
    "    Xtr_in, y_tr_oh,\n",
    "    validation_data=(Xval_in, y_val_oh),\n",
    "    epochs=20, batch_size=16, verbose=1,\n",
    "    callbacks=cbs_warm,\n",
    "    class_weight=class_weight_thin\n",
    ")"
   ]
  },
  {
   "cell_type": "code",
   "execution_count": 111,
   "id": "45dd6e6b",
   "metadata": {},
   "outputs": [],
   "source": [
    "cnn_model.get_layer(\"embedding_glove_cnn\").trainable = True\n",
    "\n",
    "# Re-compile (biasanya LR sedikit lebih kecil saat fine-tune)\n",
    "cnn_model.compile(\n",
    "    optimizer=tf.keras.optimizers.Adam(5e-4),\n",
    "    loss=loss_fn,\n",
    "    metrics=[\"accuracy\"]\n",
    ")\n",
    "\n",
    "ckpt_ft = \"best_cnn_finetune.h5\"\n",
    "cbs_ft = [\n",
    "    ModelCheckpoint(ckpt_ft, monitor=\"val_accuracy\", mode=\"max\", save_best_only=True, verbose=1),\n",
    "    EarlyStopping(monitor=\"val_accuracy\", mode=\"max\", patience=3, restore_best_weights=True, verbose=1),\n",
    "    ReduceLROnPlateau(monitor=\"val_loss\", factor=0.5, patience=2, verbose=1)\n",
    "]\n"
   ]
  },
  {
   "cell_type": "code",
   "execution_count": 112,
   "id": "39e83d45",
   "metadata": {},
   "outputs": [
    {
     "name": "stdout",
     "output_type": "stream",
     "text": [
      "Epoch 1/20\n"
     ]
    },
    {
     "name": "stdout",
     "output_type": "stream",
     "text": [
      "\u001b[1m79/80\u001b[0m \u001b[32m━━━━━━━━━━━━━━━━━━━\u001b[0m\u001b[37m━\u001b[0m \u001b[1m0s\u001b[0m 33ms/step - accuracy: 0.9559 - loss: 0.2106\n",
      "Epoch 1: val_accuracy improved from None to 0.63370, saving model to best_cnn_finetune.h5\n"
     ]
    },
    {
     "name": "stderr",
     "output_type": "stream",
     "text": [
      "WARNING:absl:You are saving your model as an HDF5 file via `model.save()` or `keras.saving.save_model(model)`. This file format is considered legacy. We recommend using instead the native Keras format, e.g. `model.save('my_model.keras')` or `keras.saving.save_model(model, 'my_model.keras')`. \n"
     ]
    },
    {
     "name": "stdout",
     "output_type": "stream",
     "text": [
      "\u001b[1m80/80\u001b[0m \u001b[32m━━━━━━━━━━━━━━━━━━━━\u001b[0m\u001b[37m\u001b[0m \u001b[1m6s\u001b[0m 42ms/step - accuracy: 0.9590 - loss: 0.1979 - val_accuracy: 0.6337 - val_loss: 0.9168 - learning_rate: 5.0000e-04\n",
      "Epoch 2/20\n",
      "\u001b[1m79/80\u001b[0m \u001b[32m━━━━━━━━━━━━━━━━━━━\u001b[0m\u001b[37m━\u001b[0m \u001b[1m0s\u001b[0m 34ms/step - accuracy: 0.9810 - loss: 0.1133\n",
      "Epoch 2: val_accuracy did not improve from 0.63370\n",
      "\u001b[1m80/80\u001b[0m \u001b[32m━━━━━━━━━━━━━━━━━━━━\u001b[0m\u001b[37m\u001b[0m \u001b[1m3s\u001b[0m 37ms/step - accuracy: 0.9866 - loss: 0.0990 - val_accuracy: 0.6154 - val_loss: 0.9732 - learning_rate: 5.0000e-04\n",
      "Epoch 3/20\n",
      "\u001b[1m79/80\u001b[0m \u001b[32m━━━━━━━━━━━━━━━━━━━\u001b[0m\u001b[37m━\u001b[0m \u001b[1m0s\u001b[0m 37ms/step - accuracy: 0.9870 - loss: 0.0692\n",
      "Epoch 3: val_accuracy did not improve from 0.63370\n",
      "\n",
      "Epoch 3: ReduceLROnPlateau reducing learning rate to 0.0002500000118743628.\n",
      "\u001b[1m80/80\u001b[0m \u001b[32m━━━━━━━━━━━━━━━━━━━━\u001b[0m\u001b[37m\u001b[0m \u001b[1m3s\u001b[0m 40ms/step - accuracy: 0.9905 - loss: 0.0552 - val_accuracy: 0.6227 - val_loss: 1.0281 - learning_rate: 5.0000e-04\n",
      "Epoch 4/20\n",
      "\u001b[1m79/80\u001b[0m \u001b[32m━━━━━━━━━━━━━━━━━━━\u001b[0m\u001b[37m━\u001b[0m \u001b[1m0s\u001b[0m 37ms/step - accuracy: 0.9915 - loss: 0.0402\n",
      "Epoch 4: val_accuracy did not improve from 0.63370\n",
      "\u001b[1m80/80\u001b[0m \u001b[32m━━━━━━━━━━━━━━━━━━━━\u001b[0m\u001b[37m\u001b[0m \u001b[1m3s\u001b[0m 40ms/step - accuracy: 0.9953 - loss: 0.0308 - val_accuracy: 0.6190 - val_loss: 1.0603 - learning_rate: 2.5000e-04\n",
      "Epoch 4: early stopping\n",
      "Restoring model weights from the end of the best epoch: 1.\n"
     ]
    }
   ],
   "source": [
    "history_ft = cnn_model.fit(\n",
    "    Xtr_in, y_tr_oh,\n",
    "    validation_data=(Xval_in, y_val_oh),\n",
    "    epochs=20, batch_size=16, verbose=1,\n",
    "    callbacks=cbs_ft,\n",
    "    class_weight=class_weight_thin\n",
    ")"
   ]
  },
  {
   "cell_type": "code",
   "execution_count": 113,
   "id": "30d93b13",
   "metadata": {},
   "outputs": [
    {
     "data": {
      "image/png": "[encoded data removed]",
      "text/plain": [
       "<Figure size 600x400 with 1 Axes>"
      ]
     },
     "metadata": {},
     "output_type": "display_data"
    },
    {
     "data": {
      "image/png": "[encoded data removed]",
      "text/plain": [
       "<Figure size 600x400 with 1 Axes>"
      ]
     },
     "metadata": {},
     "output_type": "display_data"
    },
    {
     "name": "stdout",
     "output_type": "stream",
     "text": [
      "Best val_accuracy: 0.6374\n",
      "Best val_loss    : 0.8822\n"
     ]
    }
   ],
   "source": [
    "# Gabungkan history warm-start & fine-tune agar plotnya rapi (akumulatif)\n",
    "hist_acc     = (history_warm.history.get(\"accuracy\", []) \n",
    "                + history_ft.history.get(\"accuracy\", []))\n",
    "hist_val_acc = (history_warm.history.get(\"val_accuracy\", []) \n",
    "                + history_ft.history.get(\"val_accuracy\", []))\n",
    "hist_loss    = (history_warm.history.get(\"loss\", []) \n",
    "                + history_ft.history.get(\"loss\", []))\n",
    "hist_val_loss= (history_warm.history.get(\"val_loss\", []) \n",
    "                + history_ft.history.get(\"val_loss\", []))\n",
    "\n",
    "# Plot Accuracy\n",
    "plt.figure(figsize=(6,4))\n",
    "plt.plot(hist_acc,     label=\"train_acc\")\n",
    "plt.plot(hist_val_acc, label=\"val_acc\")\n",
    "plt.xlabel(\"Epoch (cumulative)\"); plt.ylabel(\"Accuracy\"); plt.title(\"Learning Curve — Accuracy (CNN + Emb, warm→ft)\")\n",
    "plt.legend(); plt.grid(True); plt.tight_layout(); plt.show()\n",
    "\n",
    "# Plot Loss\n",
    "plt.figure(figsize=(6,4))\n",
    "plt.plot(hist_loss,     label=\"train_loss\")\n",
    "plt.plot(hist_val_loss, label=\"val_loss\")\n",
    "plt.xlabel(\"Epoch (cumulative)\"); plt.ylabel(\"Loss\"); plt.title(\"Learning Curve — Loss (CNN + Emb, warm→ft)\")\n",
    "plt.legend(); plt.grid(True); plt.tight_layout(); plt.show()\n",
    "\n",
    "best_val_acc  = np.max(hist_val_acc)\n",
    "best_val_loss = np.min(hist_val_loss)\n",
    "print(f\"Best val_accuracy: {best_val_acc:.4f}\")\n",
    "print(f\"Best val_loss    : {best_val_loss:.4f}\")"
   ]
  },
  {
   "cell_type": "code",
   "execution_count": 114,
   "id": "6cf4220c",
   "metadata": {},
   "outputs": [
    {
     "name": "stdout",
     "output_type": "stream",
     "text": [
      "== Test Metrics ==\n",
      "Accuracy: 0.5788\n",
      "Macro-F1: 0.5788\n",
      "\n",
      "Confusion Matrix (tabel):\n",
      "         negatif  netral  positif\n",
      "negatif       51      18       21\n",
      "netral        14      56       21\n",
      "positif       21      20       51\n"
     ]
    },
    {
     "data": {
      "image/png": "[encoded data removed]",
      "text/plain": [
       "<Figure size 600x400 with 2 Axes>"
      ]
     },
     "metadata": {},
     "output_type": "display_data"
    },
    {
     "name": "stdout",
     "output_type": "stream",
     "text": [
      "\n",
      "Classification Report:\n",
      "              precision    recall  f1-score   support\n",
      "\n",
      "     negatif       0.59      0.57      0.58        90\n",
      "      netral       0.60      0.62      0.61        91\n",
      "     positif       0.55      0.55      0.55        92\n",
      "\n",
      "    accuracy                           0.58       273\n",
      "   macro avg       0.58      0.58      0.58       273\n",
      "weighted avg       0.58      0.58      0.58       273\n",
      "\n"
     ]
    }
   ],
   "source": [
    "Xte_in = [Xte_pad, Xte_num_std] if have_num else Xte_pad\n",
    "\n",
    "y_prob_te = cnn_model.predict(Xte_in, verbose=0)\n",
    "if n_classes == 2:\n",
    "    y_hat_te = (y_prob_te.ravel() >= 0.5).astype(\"int32\")\n",
    "    y_true_te = y_te\n",
    "else:\n",
    "    y_hat_te = np.argmax(y_prob_te, axis=1)\n",
    "    y_true_te = y_te\n",
    "\n",
    "acc_te = accuracy_score(y_true_te, y_hat_te)\n",
    "f1m_te = f1_score(y_true_te, y_hat_te, average=\"macro\", zero_division=0)\n",
    "print(f\"== Test Metrics ==\\nAccuracy: {acc_te:.4f}\\nMacro-F1: {f1m_te:.4f}\\n\")\n",
    "\n",
    "cm = confusion_matrix(y_true_te, y_hat_te, labels=np.arange(n_classes))\n",
    "cm_df = pd.DataFrame(cm, index=le.classes_, columns=le.classes_)\n",
    "print(\"Confusion Matrix (tabel):\")\n",
    "print(cm_df)\n",
    "\n",
    "plt.figure(figsize=(6,4))\n",
    "sns.heatmap(cm_df, annot=True, fmt=\"d\", cmap=\"Blues\")\n",
    "plt.xlabel(\"Predicted\"); plt.ylabel(\"True\"); plt.title(\"Confusion Matrix — Test (CNN + Emb warm→ft + Num)\")\n",
    "plt.tight_layout(); plt.show()\n",
    "\n",
    "print(\"\\nClassification Report:\")\n",
    "print(classification_report(y_true_te, y_hat_te, target_names=list(le.classes_), zero_division=0))"
   ]
  },
  {
   "cell_type": "markdown",
   "id": "c1a77a01",
   "metadata": {},
   "source": [
    "# **3. Model Hybrid CNN+BiLSTM**"
   ]
  },
  {
   "cell_type": "code",
   "execution_count": 128,
   "id": "ea4f8abf",
   "metadata": {},
   "outputs": [
    {
     "name": "stdout",
     "output_type": "stream",
     "text": [
      "Embedding matrix shape: (5114, 300)\n"
     ]
    }
   ],
   "source": [
    "if 'embedding_matrix' not in globals():\n",
    "    embedding_dim = dim  # dari kv.vector_size yang sudah diload\n",
    "    embedding_matrix = np.zeros((vocab_size, embedding_dim), dtype=\"float32\")\n",
    "    for w, idx in tok.word_index.items():\n",
    "        if idx < vocab_size and w in kv:\n",
    "            embedding_matrix[idx] = kv[w]\n",
    "else:\n",
    "    embedding_dim = embedding_matrix.shape[1]\n",
    "\n",
    "print(\"Embedding matrix shape:\", embedding_matrix.shape)"
   ]
  },
  {
   "cell_type": "code",
   "execution_count": 130,
   "id": "298fe343",
   "metadata": {},
   "outputs": [
    {
     "name": "stdout",
     "output_type": "stream",
     "text": [
      "Configured -> categorical_crossentropy | out_units: 3 | act: softmax\n"
     ]
    }
   ],
   "source": [
    "n_classes = len(le.classes_)\n",
    "if n_classes == 2:\n",
    "    y_tr_oh, y_val_oh, y_te_oh = y_tr, y_val, y_te\n",
    "    out_units, out_activation, loss_fn = 1, \"sigmoid\", \"binary_crossentropy\"\n",
    "else:\n",
    "    y_tr_oh  = to_categorical(y_tr,  num_classes=n_classes)\n",
    "    y_val_oh = to_categorical(y_val, num_classes=n_classes)\n",
    "    y_te_oh  = to_categorical(y_te,  num_classes=n_classes)\n",
    "    out_units, out_activation, loss_fn = n_classes, \"softmax\", \"categorical_crossentropy\"\n",
    "\n",
    "print(\"Configured ->\", loss_fn, \"| out_units:\", out_units, \"| act:\", out_activation)\n",
    "\n",
    "# class weight tipis berbasis 'class_weight' yang SUDAH ADA\n",
    "class_weight_thin = {int(k): float(0.5 + 0.5*v) for k, v in class_weight.items()}"
   ]
  },
  {
   "cell_type": "code",
   "execution_count": 131,
   "id": "8df24432",
   "metadata": {},
   "outputs": [
    {
     "data": {
      "text/html": [
       "<pre style=\"white-space:pre;overflow-x:auto;line-height:normal;font-family:Menlo,'DejaVu Sans Mono',consolas,'Courier New',monospace\"><span style=\"font-weight: bold\">Model: \"Hybrid_CNN_BiLSTM_Att_NUM\"</span>\n",
       "</pre>\n"
      ],
      "text/plain": [
       "\u001b[1mModel: \"Hybrid_CNN_BiLSTM_Att_NUM\"\u001b[0m\n"
      ]
     },
     "metadata": {},
     "output_type": "display_data"
    },
    {
     "data": {
      "text/html": [
       "<pre style=\"white-space:pre;overflow-x:auto;line-height:normal;font-family:Menlo,'DejaVu Sans Mono',consolas,'Courier New',monospace\">┏━━━━━━━━━━━━━━━━━━━━━┳━━━━━━━━━━━━━━━━━━━┳━━━━━━━━━━━━┳━━━━━━━━━━━━━━━━━━━┓\n",
       "┃<span style=\"font-weight: bold\"> Layer (type)        </span>┃<span style=\"font-weight: bold\"> Output Shape      </span>┃<span style=\"font-weight: bold\">    Param # </span>┃<span style=\"font-weight: bold\"> Connected to      </span>┃\n",
       "┡━━━━━━━━━━━━━━━━━━━━━╇━━━━━━━━━━━━━━━━━━━╇━━━━━━━━━━━━╇━━━━━━━━━━━━━━━━━━━┩\n",
       "│ seq_in (<span style=\"color: #0087ff; text-decoration-color: #0087ff\">InputLayer</span>) │ (<span style=\"color: #00d7ff; text-decoration-color: #00d7ff\">None</span>, <span style=\"color: #00af00; text-decoration-color: #00af00\">48</span>)        │          <span style=\"color: #00af00; text-decoration-color: #00af00\">0</span> │ -                 │\n",
       "├─────────────────────┼───────────────────┼────────────┼───────────────────┤\n",
       "│ embedding_trainabl… │ (<span style=\"color: #00d7ff; text-decoration-color: #00d7ff\">None</span>, <span style=\"color: #00af00; text-decoration-color: #00af00\">48</span>, <span style=\"color: #00af00; text-decoration-color: #00af00\">300</span>)   │  <span style=\"color: #00af00; text-decoration-color: #00af00\">1,534,200</span> │ seq_in[<span style=\"color: #00af00; text-decoration-color: #00af00\">0</span>][<span style=\"color: #00af00; text-decoration-color: #00af00\">0</span>]      │\n",
       "│ (<span style=\"color: #0087ff; text-decoration-color: #0087ff\">Embedding</span>)         │                   │            │                   │\n",
       "├─────────────────────┼───────────────────┼────────────┼───────────────────┤\n",
       "│ spdrop              │ (<span style=\"color: #00d7ff; text-decoration-color: #00d7ff\">None</span>, <span style=\"color: #00af00; text-decoration-color: #00af00\">48</span>, <span style=\"color: #00af00; text-decoration-color: #00af00\">300</span>)   │          <span style=\"color: #00af00; text-decoration-color: #00af00\">0</span> │ embedding_traina… │\n",
       "│ (<span style=\"color: #0087ff; text-decoration-color: #0087ff\">SpatialDropout1D</span>)  │                   │            │                   │\n",
       "├─────────────────────┼───────────────────┼────────────┼───────────────────┤\n",
       "│ conv3 (<span style=\"color: #0087ff; text-decoration-color: #0087ff\">Conv1D</span>)      │ (<span style=\"color: #00d7ff; text-decoration-color: #00d7ff\">None</span>, <span style=\"color: #00af00; text-decoration-color: #00af00\">48</span>, <span style=\"color: #00af00; text-decoration-color: #00af00\">64</span>)    │     <span style=\"color: #00af00; text-decoration-color: #00af00\">57,664</span> │ spdrop[<span style=\"color: #00af00; text-decoration-color: #00af00\">0</span>][<span style=\"color: #00af00; text-decoration-color: #00af00\">0</span>]      │\n",
       "├─────────────────────┼───────────────────┼────────────┼───────────────────┤\n",
       "│ bi (<span style=\"color: #0087ff; text-decoration-color: #0087ff\">Bidirectional</span>)  │ (<span style=\"color: #00d7ff; text-decoration-color: #00d7ff\">None</span>, <span style=\"color: #00af00; text-decoration-color: #00af00\">48</span>, <span style=\"color: #00af00; text-decoration-color: #00af00\">48</span>)    │     <span style=\"color: #00af00; text-decoration-color: #00af00\">17,088</span> │ conv3[<span style=\"color: #00af00; text-decoration-color: #00af00\">0</span>][<span style=\"color: #00af00; text-decoration-color: #00af00\">0</span>]       │\n",
       "├─────────────────────┼───────────────────┼────────────┼───────────────────┤\n",
       "│ att_dense (<span style=\"color: #0087ff; text-decoration-color: #0087ff\">Dense</span>)   │ (<span style=\"color: #00d7ff; text-decoration-color: #00d7ff\">None</span>, <span style=\"color: #00af00; text-decoration-color: #00af00\">48</span>, <span style=\"color: #00af00; text-decoration-color: #00af00\">1</span>)     │         <span style=\"color: #00af00; text-decoration-color: #00af00\">49</span> │ bi[<span style=\"color: #00af00; text-decoration-color: #00af00\">0</span>][<span style=\"color: #00af00; text-decoration-color: #00af00\">0</span>]          │\n",
       "├─────────────────────┼───────────────────┼────────────┼───────────────────┤\n",
       "│ pad_mask (<span style=\"color: #0087ff; text-decoration-color: #0087ff\">Lambda</span>)   │ (<span style=\"color: #00d7ff; text-decoration-color: #00d7ff\">None</span>, <span style=\"color: #00af00; text-decoration-color: #00af00\">48</span>)        │          <span style=\"color: #00af00; text-decoration-color: #00af00\">0</span> │ seq_in[<span style=\"color: #00af00; text-decoration-color: #00af00\">0</span>][<span style=\"color: #00af00; text-decoration-color: #00af00\">0</span>]      │\n",
       "├─────────────────────┼───────────────────┼────────────┼───────────────────┤\n",
       "│ att_squeeze         │ (<span style=\"color: #00d7ff; text-decoration-color: #00d7ff\">None</span>, <span style=\"color: #00af00; text-decoration-color: #00af00\">48</span>)        │          <span style=\"color: #00af00; text-decoration-color: #00af00\">0</span> │ att_dense[<span style=\"color: #00af00; text-decoration-color: #00af00\">0</span>][<span style=\"color: #00af00; text-decoration-color: #00af00\">0</span>]   │\n",
       "│ (<span style=\"color: #0087ff; text-decoration-color: #0087ff\">Lambda</span>)            │                   │            │                   │\n",
       "├─────────────────────┼───────────────────┼────────────┼───────────────────┤\n",
       "│ neg_mask (<span style=\"color: #0087ff; text-decoration-color: #0087ff\">Lambda</span>)   │ (<span style=\"color: #00d7ff; text-decoration-color: #00d7ff\">None</span>, <span style=\"color: #00af00; text-decoration-color: #00af00\">48</span>)        │          <span style=\"color: #00af00; text-decoration-color: #00af00\">0</span> │ pad_mask[<span style=\"color: #00af00; text-decoration-color: #00af00\">0</span>][<span style=\"color: #00af00; text-decoration-color: #00af00\">0</span>]    │\n",
       "├─────────────────────┼───────────────────┼────────────┼───────────────────┤\n",
       "│ att_masked (<span style=\"color: #0087ff; text-decoration-color: #0087ff\">Add</span>)    │ (<span style=\"color: #00d7ff; text-decoration-color: #00d7ff\">None</span>, <span style=\"color: #00af00; text-decoration-color: #00af00\">48</span>)        │          <span style=\"color: #00af00; text-decoration-color: #00af00\">0</span> │ att_squeeze[<span style=\"color: #00af00; text-decoration-color: #00af00\">0</span>][<span style=\"color: #00af00; text-decoration-color: #00af00\">0</span>… │\n",
       "│                     │                   │            │ neg_mask[<span style=\"color: #00af00; text-decoration-color: #00af00\">0</span>][<span style=\"color: #00af00; text-decoration-color: #00af00\">0</span>]    │\n",
       "├─────────────────────┼───────────────────┼────────────┼───────────────────┤\n",
       "│ att_weights         │ (<span style=\"color: #00d7ff; text-decoration-color: #00d7ff\">None</span>, <span style=\"color: #00af00; text-decoration-color: #00af00\">48</span>)        │          <span style=\"color: #00af00; text-decoration-color: #00af00\">0</span> │ att_masked[<span style=\"color: #00af00; text-decoration-color: #00af00\">0</span>][<span style=\"color: #00af00; text-decoration-color: #00af00\">0</span>]  │\n",
       "│ (<span style=\"color: #0087ff; text-decoration-color: #0087ff\">Activation</span>)        │                   │            │                   │\n",
       "├─────────────────────┼───────────────────┼────────────┼───────────────────┤\n",
       "│ num_in (<span style=\"color: #0087ff; text-decoration-color: #0087ff\">InputLayer</span>) │ (<span style=\"color: #00d7ff; text-decoration-color: #00d7ff\">None</span>, <span style=\"color: #00af00; text-decoration-color: #00af00\">5</span>)         │          <span style=\"color: #00af00; text-decoration-color: #00af00\">0</span> │ -                 │\n",
       "├─────────────────────┼───────────────────┼────────────┼───────────────────┤\n",
       "│ att_expand (<span style=\"color: #0087ff; text-decoration-color: #0087ff\">Lambda</span>) │ (<span style=\"color: #00d7ff; text-decoration-color: #00d7ff\">None</span>, <span style=\"color: #00af00; text-decoration-color: #00af00\">48</span>, <span style=\"color: #00af00; text-decoration-color: #00af00\">1</span>)     │          <span style=\"color: #00af00; text-decoration-color: #00af00\">0</span> │ att_weights[<span style=\"color: #00af00; text-decoration-color: #00af00\">0</span>][<span style=\"color: #00af00; text-decoration-color: #00af00\">0</span>] │\n",
       "├─────────────────────┼───────────────────┼────────────┼───────────────────┤\n",
       "│ bn_num              │ (<span style=\"color: #00d7ff; text-decoration-color: #00d7ff\">None</span>, <span style=\"color: #00af00; text-decoration-color: #00af00\">5</span>)         │         <span style=\"color: #00af00; text-decoration-color: #00af00\">20</span> │ num_in[<span style=\"color: #00af00; text-decoration-color: #00af00\">0</span>][<span style=\"color: #00af00; text-decoration-color: #00af00\">0</span>]      │\n",
       "│ (<span style=\"color: #0087ff; text-decoration-color: #0087ff\">BatchNormalizatio…</span> │                   │            │                   │\n",
       "├─────────────────────┼───────────────────┼────────────┼───────────────────┤\n",
       "│ att_context         │ (<span style=\"color: #00d7ff; text-decoration-color: #00d7ff\">None</span>, <span style=\"color: #00af00; text-decoration-color: #00af00\">48</span>)        │          <span style=\"color: #00af00; text-decoration-color: #00af00\">0</span> │ bi[<span style=\"color: #00af00; text-decoration-color: #00af00\">0</span>][<span style=\"color: #00af00; text-decoration-color: #00af00\">0</span>],         │\n",
       "│ (<span style=\"color: #0087ff; text-decoration-color: #0087ff\">Lambda</span>)            │                   │            │ att_expand[<span style=\"color: #00af00; text-decoration-color: #00af00\">0</span>][<span style=\"color: #00af00; text-decoration-color: #00af00\">0</span>]  │\n",
       "├─────────────────────┼───────────────────┼────────────┼───────────────────┤\n",
       "│ num_proj (<span style=\"color: #0087ff; text-decoration-color: #0087ff\">Dense</span>)    │ (<span style=\"color: #00d7ff; text-decoration-color: #00d7ff\">None</span>, <span style=\"color: #00af00; text-decoration-color: #00af00\">8</span>)         │         <span style=\"color: #00af00; text-decoration-color: #00af00\">48</span> │ bn_num[<span style=\"color: #00af00; text-decoration-color: #00af00\">0</span>][<span style=\"color: #00af00; text-decoration-color: #00af00\">0</span>]      │\n",
       "├─────────────────────┼───────────────────┼────────────┼───────────────────┤\n",
       "│ concat_text_num     │ (<span style=\"color: #00d7ff; text-decoration-color: #00d7ff\">None</span>, <span style=\"color: #00af00; text-decoration-color: #00af00\">56</span>)        │          <span style=\"color: #00af00; text-decoration-color: #00af00\">0</span> │ att_context[<span style=\"color: #00af00; text-decoration-color: #00af00\">0</span>][<span style=\"color: #00af00; text-decoration-color: #00af00\">0</span>… │\n",
       "│ (<span style=\"color: #0087ff; text-decoration-color: #0087ff\">Concatenate</span>)       │                   │            │ num_proj[<span style=\"color: #00af00; text-decoration-color: #00af00\">0</span>][<span style=\"color: #00af00; text-decoration-color: #00af00\">0</span>]    │\n",
       "├─────────────────────┼───────────────────┼────────────┼───────────────────┤\n",
       "│ dense_48 (<span style=\"color: #0087ff; text-decoration-color: #0087ff\">Dense</span>)    │ (<span style=\"color: #00d7ff; text-decoration-color: #00d7ff\">None</span>, <span style=\"color: #00af00; text-decoration-color: #00af00\">48</span>)        │      <span style=\"color: #00af00; text-decoration-color: #00af00\">2,736</span> │ concat_text_num[<span style=\"color: #00af00; text-decoration-color: #00af00\">…</span> │\n",
       "├─────────────────────┼───────────────────┼────────────┼───────────────────┤\n",
       "│ drop_48 (<span style=\"color: #0087ff; text-decoration-color: #0087ff\">Dropout</span>)   │ (<span style=\"color: #00d7ff; text-decoration-color: #00d7ff\">None</span>, <span style=\"color: #00af00; text-decoration-color: #00af00\">48</span>)        │          <span style=\"color: #00af00; text-decoration-color: #00af00\">0</span> │ dense_48[<span style=\"color: #00af00; text-decoration-color: #00af00\">0</span>][<span style=\"color: #00af00; text-decoration-color: #00af00\">0</span>]    │\n",
       "├─────────────────────┼───────────────────┼────────────┼───────────────────┤\n",
       "│ output (<span style=\"color: #0087ff; text-decoration-color: #0087ff\">Dense</span>)      │ (<span style=\"color: #00d7ff; text-decoration-color: #00d7ff\">None</span>, <span style=\"color: #00af00; text-decoration-color: #00af00\">3</span>)         │        <span style=\"color: #00af00; text-decoration-color: #00af00\">147</span> │ drop_48[<span style=\"color: #00af00; text-decoration-color: #00af00\">0</span>][<span style=\"color: #00af00; text-decoration-color: #00af00\">0</span>]     │\n",
       "└─────────────────────┴───────────────────┴────────────┴───────────────────┘\n",
       "</pre>\n"
      ],
      "text/plain": [
       "┏━━━━━━━━━━━━━━━━━━━━━┳━━━━━━━━━━━━━━━━━━━┳━━━━━━━━━━━━┳━━━━━━━━━━━━━━━━━━━┓\n",
       "┃\u001b[1m \u001b[0m\u001b[1mLayer (type)       \u001b[0m\u001b[1m \u001b[0m┃\u001b[1m \u001b[0m\u001b[1mOutput Shape     \u001b[0m\u001b[1m \u001b[0m┃\u001b[1m \u001b[0m\u001b[1m   Param #\u001b[0m\u001b[1m \u001b[0m┃\u001b[1m \u001b[0m\u001b[1mConnected to     \u001b[0m\u001b[1m \u001b[0m┃\n",
       "┡━━━━━━━━━━━━━━━━━━━━━╇━━━━━━━━━━━━━━━━━━━╇━━━━━━━━━━━━╇━━━━━━━━━━━━━━━━━━━┩\n",
       "│ seq_in (\u001b[38;5;33mInputLayer\u001b[0m) │ (\u001b[38;5;45mNone\u001b[0m, \u001b[38;5;34m48\u001b[0m)        │          \u001b[38;5;34m0\u001b[0m │ -                 │\n",
       "├─────────────────────┼───────────────────┼────────────┼───────────────────┤\n",
       "│ embedding_trainabl… │ (\u001b[38;5;45mNone\u001b[0m, \u001b[38;5;34m48\u001b[0m, \u001b[38;5;34m300\u001b[0m)   │  \u001b[38;5;34m1,534,200\u001b[0m │ seq_in[\u001b[38;5;34m0\u001b[0m][\u001b[38;5;34m0\u001b[0m]      │\n",
       "│ (\u001b[38;5;33mEmbedding\u001b[0m)         │                   │            │                   │\n",
       "├─────────────────────┼───────────────────┼────────────┼───────────────────┤\n",
       "│ spdrop              │ (\u001b[38;5;45mNone\u001b[0m, \u001b[38;5;34m48\u001b[0m, \u001b[38;5;34m300\u001b[0m)   │          \u001b[38;5;34m0\u001b[0m │ embedding_traina… │\n",
       "│ (\u001b[38;5;33mSpatialDropout1D\u001b[0m)  │                   │            │                   │\n",
       "├─────────────────────┼───────────────────┼────────────┼───────────────────┤\n",
       "│ conv3 (\u001b[38;5;33mConv1D\u001b[0m)      │ (\u001b[38;5;45mNone\u001b[0m, \u001b[38;5;34m48\u001b[0m, \u001b[38;5;34m64\u001b[0m)    │     \u001b[38;5;34m57,664\u001b[0m │ spdrop[\u001b[38;5;34m0\u001b[0m][\u001b[38;5;34m0\u001b[0m]      │\n",
       "├─────────────────────┼───────────────────┼────────────┼───────────────────┤\n",
       "│ bi (\u001b[38;5;33mBidirectional\u001b[0m)  │ (\u001b[38;5;45mNone\u001b[0m, \u001b[38;5;34m48\u001b[0m, \u001b[38;5;34m48\u001b[0m)    │     \u001b[38;5;34m17,088\u001b[0m │ conv3[\u001b[38;5;34m0\u001b[0m][\u001b[38;5;34m0\u001b[0m]       │\n",
       "├─────────────────────┼───────────────────┼────────────┼───────────────────┤\n",
       "│ att_dense (\u001b[38;5;33mDense\u001b[0m)   │ (\u001b[38;5;45mNone\u001b[0m, \u001b[38;5;34m48\u001b[0m, \u001b[38;5;34m1\u001b[0m)     │         \u001b[38;5;34m49\u001b[0m │ bi[\u001b[38;5;34m0\u001b[0m][\u001b[38;5;34m0\u001b[0m]          │\n",
       "├─────────────────────┼───────────────────┼────────────┼───────────────────┤\n",
       "│ pad_mask (\u001b[38;5;33mLambda\u001b[0m)   │ (\u001b[38;5;45mNone\u001b[0m, \u001b[38;5;34m48\u001b[0m)        │          \u001b[38;5;34m0\u001b[0m │ seq_in[\u001b[38;5;34m0\u001b[0m][\u001b[38;5;34m0\u001b[0m]      │\n",
       "├─────────────────────┼───────────────────┼────────────┼───────────────────┤\n",
       "│ att_squeeze         │ (\u001b[38;5;45mNone\u001b[0m, \u001b[38;5;34m48\u001b[0m)        │          \u001b[38;5;34m0\u001b[0m │ att_dense[\u001b[38;5;34m0\u001b[0m][\u001b[38;5;34m0\u001b[0m]   │\n",
       "│ (\u001b[38;5;33mLambda\u001b[0m)            │                   │            │                   │\n",
       "├─────────────────────┼───────────────────┼────────────┼───────────────────┤\n",
       "│ neg_mask (\u001b[38;5;33mLambda\u001b[0m)   │ (\u001b[38;5;45mNone\u001b[0m, \u001b[38;5;34m48\u001b[0m)        │          \u001b[38;5;34m0\u001b[0m │ pad_mask[\u001b[38;5;34m0\u001b[0m][\u001b[38;5;34m0\u001b[0m]    │\n",
       "├─────────────────────┼───────────────────┼────────────┼───────────────────┤\n",
       "│ att_masked (\u001b[38;5;33mAdd\u001b[0m)    │ (\u001b[38;5;45mNone\u001b[0m, \u001b[38;5;34m48\u001b[0m)        │          \u001b[38;5;34m0\u001b[0m │ att_squeeze[\u001b[38;5;34m0\u001b[0m][\u001b[38;5;34m0\u001b[0m… │\n",
       "│                     │                   │            │ neg_mask[\u001b[38;5;34m0\u001b[0m][\u001b[38;5;34m0\u001b[0m]    │\n",
       "├─────────────────────┼───────────────────┼────────────┼───────────────────┤\n",
       "│ att_weights         │ (\u001b[38;5;45mNone\u001b[0m, \u001b[38;5;34m48\u001b[0m)        │          \u001b[38;5;34m0\u001b[0m │ att_masked[\u001b[38;5;34m0\u001b[0m][\u001b[38;5;34m0\u001b[0m]  │\n",
       "│ (\u001b[38;5;33mActivation\u001b[0m)        │                   │            │                   │\n",
       "├─────────────────────┼───────────────────┼────────────┼───────────────────┤\n",
       "│ num_in (\u001b[38;5;33mInputLayer\u001b[0m) │ (\u001b[38;5;45mNone\u001b[0m, \u001b[38;5;34m5\u001b[0m)         │          \u001b[38;5;34m0\u001b[0m │ -                 │\n",
       "├─────────────────────┼───────────────────┼────────────┼───────────────────┤\n",
       "│ att_expand (\u001b[38;5;33mLambda\u001b[0m) │ (\u001b[38;5;45mNone\u001b[0m, \u001b[38;5;34m48\u001b[0m, \u001b[38;5;34m1\u001b[0m)     │          \u001b[38;5;34m0\u001b[0m │ att_weights[\u001b[38;5;34m0\u001b[0m][\u001b[38;5;34m0\u001b[0m] │\n",
       "├─────────────────────┼───────────────────┼────────────┼───────────────────┤\n",
       "│ bn_num              │ (\u001b[38;5;45mNone\u001b[0m, \u001b[38;5;34m5\u001b[0m)         │         \u001b[38;5;34m20\u001b[0m │ num_in[\u001b[38;5;34m0\u001b[0m][\u001b[38;5;34m0\u001b[0m]      │\n",
       "│ (\u001b[38;5;33mBatchNormalizatio…\u001b[0m │                   │            │                   │\n",
       "├─────────────────────┼───────────────────┼────────────┼───────────────────┤\n",
       "│ att_context         │ (\u001b[38;5;45mNone\u001b[0m, \u001b[38;5;34m48\u001b[0m)        │          \u001b[38;5;34m0\u001b[0m │ bi[\u001b[38;5;34m0\u001b[0m][\u001b[38;5;34m0\u001b[0m],         │\n",
       "│ (\u001b[38;5;33mLambda\u001b[0m)            │                   │            │ att_expand[\u001b[38;5;34m0\u001b[0m][\u001b[38;5;34m0\u001b[0m]  │\n",
       "├─────────────────────┼───────────────────┼────────────┼───────────────────┤\n",
       "│ num_proj (\u001b[38;5;33mDense\u001b[0m)    │ (\u001b[38;5;45mNone\u001b[0m, \u001b[38;5;34m8\u001b[0m)         │         \u001b[38;5;34m48\u001b[0m │ bn_num[\u001b[38;5;34m0\u001b[0m][\u001b[38;5;34m0\u001b[0m]      │\n",
       "├─────────────────────┼───────────────────┼────────────┼───────────────────┤\n",
       "│ concat_text_num     │ (\u001b[38;5;45mNone\u001b[0m, \u001b[38;5;34m56\u001b[0m)        │          \u001b[38;5;34m0\u001b[0m │ att_context[\u001b[38;5;34m0\u001b[0m][\u001b[38;5;34m0\u001b[0m… │\n",
       "│ (\u001b[38;5;33mConcatenate\u001b[0m)       │                   │            │ num_proj[\u001b[38;5;34m0\u001b[0m][\u001b[38;5;34m0\u001b[0m]    │\n",
       "├─────────────────────┼───────────────────┼────────────┼───────────────────┤\n",
       "│ dense_48 (\u001b[38;5;33mDense\u001b[0m)    │ (\u001b[38;5;45mNone\u001b[0m, \u001b[38;5;34m48\u001b[0m)        │      \u001b[38;5;34m2,736\u001b[0m │ concat_text_num[\u001b[38;5;34m…\u001b[0m │\n",
       "├─────────────────────┼───────────────────┼────────────┼───────────────────┤\n",
       "│ drop_48 (\u001b[38;5;33mDropout\u001b[0m)   │ (\u001b[38;5;45mNone\u001b[0m, \u001b[38;5;34m48\u001b[0m)        │          \u001b[38;5;34m0\u001b[0m │ dense_48[\u001b[38;5;34m0\u001b[0m][\u001b[38;5;34m0\u001b[0m]    │\n",
       "├─────────────────────┼───────────────────┼────────────┼───────────────────┤\n",
       "│ output (\u001b[38;5;33mDense\u001b[0m)      │ (\u001b[38;5;45mNone\u001b[0m, \u001b[38;5;34m3\u001b[0m)         │        \u001b[38;5;34m147\u001b[0m │ drop_48[\u001b[38;5;34m0\u001b[0m][\u001b[38;5;34m0\u001b[0m]     │\n",
       "└─────────────────────┴───────────────────┴────────────┴───────────────────┘\n"
      ]
     },
     "metadata": {},
     "output_type": "display_data"
    },
    {
     "data": {
      "text/html": [
       "<pre style=\"white-space:pre;overflow-x:auto;line-height:normal;font-family:Menlo,'DejaVu Sans Mono',consolas,'Courier New',monospace\"><span style=\"font-weight: bold\"> Total params: </span><span style=\"color: #00af00; text-decoration-color: #00af00\">1,611,952</span> (6.15 MB)\n",
       "</pre>\n"
      ],
      "text/plain": [
       "\u001b[1m Total params: \u001b[0m\u001b[38;5;34m1,611,952\u001b[0m (6.15 MB)\n"
      ]
     },
     "metadata": {},
     "output_type": "display_data"
    },
    {
     "data": {
      "text/html": [
       "<pre style=\"white-space:pre;overflow-x:auto;line-height:normal;font-family:Menlo,'DejaVu Sans Mono',consolas,'Courier New',monospace\"><span style=\"font-weight: bold\"> Trainable params: </span><span style=\"color: #00af00; text-decoration-color: #00af00\">1,611,942</span> (6.15 MB)\n",
       "</pre>\n"
      ],
      "text/plain": [
       "\u001b[1m Trainable params: \u001b[0m\u001b[38;5;34m1,611,942\u001b[0m (6.15 MB)\n"
      ]
     },
     "metadata": {},
     "output_type": "display_data"
    },
    {
     "data": {
      "text/html": [
       "<pre style=\"white-space:pre;overflow-x:auto;line-height:normal;font-family:Menlo,'DejaVu Sans Mono',consolas,'Courier New',monospace\"><span style=\"font-weight: bold\"> Non-trainable params: </span><span style=\"color: #00af00; text-decoration-color: #00af00\">10</span> (40.00 B)\n",
       "</pre>\n"
      ],
      "text/plain": [
       "\u001b[1m Non-trainable params: \u001b[0m\u001b[38;5;34m10\u001b[0m (40.00 B)\n"
      ]
     },
     "metadata": {},
     "output_type": "display_data"
    }
   ],
   "source": [
    "have_num = Xtr_num_std is not None and Xtr_num_std.shape[1] > 0\n",
    "seq_len  = Xtr_pad.shape[1]\n",
    "\n",
    "# ---- Input teks (sequence) ----\n",
    "seq_in = layers.Input(shape=(seq_len,), name=\"seq_in\")\n",
    "\n",
    "emb = layers.Embedding(\n",
    "    input_dim=vocab_size,\n",
    "    output_dim=embedding_dim,\n",
    "    weights=[embedding_matrix],\n",
    "    input_length=seq_len,\n",
    "    mask_zero=True,          # agar padding (0) memperoleh mask\n",
    "    trainable=True,\n",
    "    name=\"embedding_trainable_hybrid\"\n",
    ")(seq_in)\n",
    "\n",
    "x = layers.SpatialDropout1D(0.4, name=\"spdrop\")(emb)\n",
    "x = layers.Conv1D(64, kernel_size=3, activation='relu', padding=\"same\", name=\"conv3\")(x)\n",
    "x = layers.Bidirectional(layers.LSTM(24, return_sequences=True, name=\"bilstm24\"), name=\"bi\")(x)\n",
    "\n",
    "# ---- Attention bertopeng padding ----\n",
    "# scores = Dense(1)(x) -> squeeze -> masking -> softmax -> context\n",
    "scores = layers.Dense(1, name=\"att_dense\")(x)                                   # (B, T, 1)\n",
    "scores = layers.Lambda(lambda t: tf.squeeze(t, axis=-1), name=\"att_squeeze\")(scores)  # (B, T)\n",
    "\n",
    "# Mask dari pad (token 0)\n",
    "mask = layers.Lambda(lambda s: tf.cast(tf.not_equal(s, 0), tf.float32), name=\"pad_mask\")(seq_in)\n",
    "minus_inf = layers.Lambda(lambda m: (1.0 - m) * -1e9, name=\"neg_mask\")(mask)\n",
    "scores = layers.Add(name=\"att_masked\")([scores, minus_inf])\n",
    "\n",
    "weights = layers.Activation('softmax', name=\"att_weights\")(scores)              # (B, T)\n",
    "weights_exp = layers.Lambda(lambda w: tf.expand_dims(w, axis=-1), name=\"att_expand\")(weights)  # (B, T, 1)\n",
    "h_text = layers.Lambda(lambda args: tf.reduce_sum(args[0]*args[1], axis=1),\n",
    "                       name=\"att_context\")([x, weights_exp])                    # (B, 2*hidden)\n",
    "\n",
    "# ---- Cabang numerik ----\n",
    "if have_num:\n",
    "    num_in = layers.Input(shape=(Xtr_num_std.shape[1],), name=\"num_in\")\n",
    "    h_num  = layers.BatchNormalization(name=\"bn_num\")(num_in)\n",
    "    h_num  = layers.Dense(8, activation='relu', name=\"num_proj\")(h_num)\n",
    "    h      = layers.Concatenate(name=\"concat_text_num\")([h_text, h_num])\n",
    "    inputs = [seq_in, num_in]\n",
    "else:\n",
    "    h      = h_text\n",
    "    inputs = seq_in\n",
    "\n",
    "# ---- Head klasifikasi ----\n",
    "h = layers.Dense(48, activation='relu',\n",
    "                 kernel_regularizer=regularizers.l2(1e-4),\n",
    "                 name=\"dense_48\")(h)\n",
    "h = layers.Dropout(0.5, name=\"drop_48\")(h)\n",
    "out = layers.Dense(out_units, activation=out_activation, name=\"output\")(h)\n",
    "\n",
    "hybrid_model = Model(inputs, out, name=\"Hybrid_CNN_BiLSTM_Att_NUM\")\n",
    "hybrid_model.summary()"
   ]
  },
  {
   "cell_type": "code",
   "execution_count": 132,
   "id": "7115fd06",
   "metadata": {},
   "outputs": [
    {
     "name": "stdout",
     "output_type": "stream",
     "text": [
      "Epoch 1/15\n",
      "\u001b[1m80/80\u001b[0m \u001b[32m━━━━━━━━━━━━━━━━━━━━\u001b[0m\u001b[37m\u001b[0m \u001b[1m0s\u001b[0m 53ms/step - accuracy: 0.3873 - loss: 1.0946\n",
      "Epoch 1: val_accuracy improved from None to 0.56044, saving model to best_hybrid_cnn_bilstm.h5\n"
     ]
    },
    {
     "name": "stderr",
     "output_type": "stream",
     "text": [
      "WARNING:absl:You are saving your model as an HDF5 file via `model.save()` or `keras.saving.save_model(model)`. This file format is considered legacy. We recommend using instead the native Keras format, e.g. `model.save('my_model.keras')` or `keras.saving.save_model(model, 'my_model.keras')`. \n"
     ]
    },
    {
     "name": "stdout",
     "output_type": "stream",
     "text": [
      "\u001b[1m80/80\u001b[0m \u001b[32m━━━━━━━━━━━━━━━━━━━━\u001b[0m\u001b[37m\u001b[0m \u001b[1m13s\u001b[0m 68ms/step - accuracy: 0.4106 - loss: 1.0789 - val_accuracy: 0.5604 - val_loss: 0.9908 - learning_rate: 8.0000e-04\n",
      "Epoch 2/15\n",
      "\u001b[1m79/80\u001b[0m \u001b[32m━━━━━━━━━━━━━━━━━━━\u001b[0m\u001b[37m━\u001b[0m \u001b[1m0s\u001b[0m 51ms/step - accuracy: 0.5563 - loss: 0.9688\n",
      "Epoch 2: val_accuracy improved from 0.56044 to 0.63004, saving model to best_hybrid_cnn_bilstm.h5\n"
     ]
    },
    {
     "name": "stderr",
     "output_type": "stream",
     "text": [
      "WARNING:absl:You are saving your model as an HDF5 file via `model.save()` or `keras.saving.save_model(model)`. This file format is considered legacy. We recommend using instead the native Keras format, e.g. `model.save('my_model.keras')` or `keras.saving.save_model(model, 'my_model.keras')`. \n"
     ]
    },
    {
     "name": "stdout",
     "output_type": "stream",
     "text": [
      "\u001b[1m80/80\u001b[0m \u001b[32m━━━━━━━━━━━━━━━━━━━━\u001b[0m\u001b[37m\u001b[0m \u001b[1m5s\u001b[0m 56ms/step - accuracy: 0.5831 - loss: 0.9313 - val_accuracy: 0.6300 - val_loss: 0.8529 - learning_rate: 8.0000e-04\n",
      "Epoch 3/15\n",
      "\u001b[1m80/80\u001b[0m \u001b[32m━━━━━━━━━━━━━━━━━━━━\u001b[0m\u001b[37m\u001b[0m \u001b[1m0s\u001b[0m 52ms/step - accuracy: 0.6912 - loss: 0.7560\n",
      "Epoch 3: val_accuracy did not improve from 0.63004\n",
      "\u001b[1m80/80\u001b[0m \u001b[32m━━━━━━━━━━━━━━━━━━━━\u001b[0m\u001b[37m\u001b[0m \u001b[1m4s\u001b[0m 55ms/step - accuracy: 0.7439 - loss: 0.6702 - val_accuracy: 0.6190 - val_loss: 0.9130 - learning_rate: 8.0000e-04\n",
      "Epoch 4/15\n",
      "\u001b[1m79/80\u001b[0m \u001b[32m━━━━━━━━━━━━━━━━━━━\u001b[0m\u001b[37m━\u001b[0m \u001b[1m0s\u001b[0m 49ms/step - accuracy: 0.8117 - loss: 0.5106\n",
      "Epoch 4: val_accuracy did not improve from 0.63004\n",
      "\n",
      "Epoch 4: ReduceLROnPlateau reducing learning rate to 0.00039999998989515007.\n",
      "\u001b[1m80/80\u001b[0m \u001b[32m━━━━━━━━━━━━━━━━━━━━\u001b[0m\u001b[37m\u001b[0m \u001b[1m4s\u001b[0m 53ms/step - accuracy: 0.8487 - loss: 0.4209 - val_accuracy: 0.6117 - val_loss: 1.1257 - learning_rate: 8.0000e-04\n",
      "Epoch 5/15\n",
      "\u001b[1m79/80\u001b[0m \u001b[32m━━━━━━━━━━━━━━━━━━━\u001b[0m\u001b[37m━\u001b[0m \u001b[1m0s\u001b[0m 49ms/step - accuracy: 0.9164 - loss: 0.2955\n",
      "Epoch 5: val_accuracy did not improve from 0.63004\n",
      "\u001b[1m80/80\u001b[0m \u001b[32m━━━━━━━━━━━━━━━━━━━━\u001b[0m\u001b[37m\u001b[0m \u001b[1m4s\u001b[0m 52ms/step - accuracy: 0.9362 - loss: 0.2285 - val_accuracy: 0.6081 - val_loss: 1.2431 - learning_rate: 4.0000e-04\n",
      "Epoch 5: early stopping\n",
      "Restoring model weights from the end of the best epoch: 2.\n"
     ]
    }
   ],
   "source": [
    "opt = tf.keras.optimizers.Adam(learning_rate=8e-4, clipnorm=1.0)\n",
    "\n",
    "hybrid_model.compile(\n",
    "    optimizer=opt,\n",
    "    loss=loss_fn,\n",
    "    metrics=[\"accuracy\"]\n",
    ")\n",
    "\n",
    "ckpt_path_hybrid = \"best_hybrid_cnn_bilstm.h5\"\n",
    "cbs_hybrid = [\n",
    "    ModelCheckpoint(ckpt_path_hybrid, monitor=\"val_accuracy\", mode=\"max\", save_best_only=True, verbose=1),\n",
    "    EarlyStopping(monitor=\"val_accuracy\", mode=\"max\", patience=3, restore_best_weights=True, verbose=1),\n",
    "    ReduceLROnPlateau(monitor=\"val_loss\", factor=0.5, patience=2, verbose=1)\n",
    "]\n",
    "\n",
    "# Siapkan input train/val\n",
    "Xtr_in_h  = [Xtr_pad, Xtr_num_std]   if have_num else Xtr_pad\n",
    "Xval_in_h = [Xval_pad, Xval_num_std] if have_num else Xval_pad\n",
    "\n",
    "history_h = hybrid_model.fit(\n",
    "    Xtr_in_h, y_tr_oh,\n",
    "    validation_data=(Xval_in_h, y_val_oh),\n",
    "    epochs=15, batch_size=16, verbose=1,\n",
    "    callbacks=cbs_hybrid,\n",
    "    class_weight=class_weight_thin\n",
    ")"
   ]
  },
  {
   "cell_type": "code",
   "execution_count": 133,
   "id": "51c1e945",
   "metadata": {},
   "outputs": [
    {
     "data": {
      "image/png": "[encoded data removed]",
      "text/plain": [
       "<Figure size 600x400 with 1 Axes>"
      ]
     },
     "metadata": {},
     "output_type": "display_data"
    },
    {
     "data": {
      "image/png": "[encoded data removed]",
      "text/plain": [
       "<Figure size 600x400 with 1 Axes>"
      ]
     },
     "metadata": {},
     "output_type": "display_data"
    },
    {
     "name": "stdout",
     "output_type": "stream",
     "text": [
      "[Hybrid] Best val_accuracy: 0.6300\n",
      "[Hybrid] Best val_loss    : 0.8529\n"
     ]
    }
   ],
   "source": [
    "# Accuracy\n",
    "plt.figure(figsize=(6,4))\n",
    "plt.plot(history_h.history[\"accuracy\"],     label=\"train_acc\")\n",
    "plt.plot(history_h.history[\"val_accuracy\"], label=\"val_acc\")\n",
    "plt.xlabel(\"Epoch\"); plt.ylabel(\"Accuracy\"); plt.title(\"Learning Curve — Accuracy (Hybrid CNN+BiLSTM+Att+Num)\")\n",
    "plt.legend(); plt.grid(True); plt.tight_layout(); plt.show()\n",
    "\n",
    "# Loss\n",
    "plt.figure(figsize=(6,4))\n",
    "plt.plot(history_h.history[\"loss\"],     label=\"train_loss\")\n",
    "plt.plot(history_h.history[\"val_loss\"], label=\"val_loss\")\n",
    "plt.xlabel(\"Epoch\"); plt.ylabel(\"Loss\"); plt.title(\"Learning Curve — Loss (Hybrid CNN+BiLSTM+Att+Num)\")\n",
    "plt.legend(); plt.grid(True); plt.tight_layout(); plt.show()\n",
    "\n",
    "best_val_acc_h  = np.max(history_h.history[\"val_accuracy\"])\n",
    "best_val_loss_h = np.min(history_h.history[\"val_loss\"])\n",
    "print(f\"[Hybrid] Best val_accuracy: {best_val_acc_h:.4f}\")\n",
    "print(f\"[Hybrid] Best val_loss    : {best_val_loss_h:.4f}\")"
   ]
  },
  {
   "cell_type": "code",
   "execution_count": 134,
   "id": "130f1ef0",
   "metadata": {},
   "outputs": [
    {
     "name": "stdout",
     "output_type": "stream",
     "text": [
      "[Hybrid] == Test Metrics ==\n",
      "Accuracy: 0.6264\n",
      "Macro-F1: 0.6251\n",
      "\n",
      "[Hybrid] Confusion Matrix (tabel):\n",
      "         negatif  netral  positif\n",
      "negatif       64      12       14\n",
      "netral        16      56       19\n",
      "positif       22      19       51\n"
     ]
    },
    {
     "data": {
      "image/png": "[encoded data removed]",
      "text/plain": [
       "<Figure size 600x400 with 2 Axes>"
      ]
     },
     "metadata": {},
     "output_type": "display_data"
    },
    {
     "name": "stdout",
     "output_type": "stream",
     "text": [
      "\n",
      "[Hybrid] Classification Report:\n",
      "              precision    recall  f1-score   support\n",
      "\n",
      "     negatif       0.63      0.71      0.67        90\n",
      "      netral       0.64      0.62      0.63        91\n",
      "     positif       0.61      0.55      0.58        92\n",
      "\n",
      "    accuracy                           0.63       273\n",
      "   macro avg       0.63      0.63      0.63       273\n",
      "weighted avg       0.63      0.63      0.62       273\n",
      "\n"
     ]
    }
   ],
   "source": [
    "Xte_in_h = [Xte_pad, Xte_num_std] if have_num else Xte_pad\n",
    "\n",
    "y_prob_te_h = hybrid_model.predict(Xte_in_h, verbose=0)\n",
    "if n_classes == 2:\n",
    "    y_hat_te_h = (y_prob_te_h.ravel() >= 0.5).astype(\"int32\")\n",
    "    y_true_te  = y_te\n",
    "else:\n",
    "    y_hat_te_h = np.argmax(y_prob_te_h, axis=1)\n",
    "    y_true_te  = y_te\n",
    "\n",
    "acc_te_h = accuracy_score(y_true_te, y_hat_te_h)\n",
    "f1m_te_h = f1_score(y_true_te, y_hat_te_h, average=\"macro\", zero_division=0)\n",
    "print(f\"[Hybrid] == Test Metrics ==\\nAccuracy: {acc_te_h:.4f}\\nMacro-F1: {f1m_te_h:.4f}\\n\")\n",
    "\n",
    "cm_h = confusion_matrix(y_true_te, y_hat_te_h, labels=np.arange(n_classes))\n",
    "cm_df_h = pd.DataFrame(cm_h, index=le.classes_, columns=le.classes_)\n",
    "print(\"[Hybrid] Confusion Matrix (tabel):\")\n",
    "print(cm_df_h)\n",
    "\n",
    "plt.figure(figsize=(6,4))\n",
    "sns.heatmap(cm_df_h, annot=True, fmt=\"d\", cmap=\"Blues\")\n",
    "plt.xlabel(\"Predicted\"); plt.ylabel(\"True\"); plt.title(\"Confusion Matrix — Test (Hybrid CNN+BiLSTM+Att+Num)\")\n",
    "plt.tight_layout(); plt.show()\n",
    "\n",
    "print(\"\\n[Hybrid] Classification Report:\")\n",
    "print(classification_report(y_true_te, y_hat_te_h, target_names=list(le.classes_), zero_division=0))"
   ]
  }
 ],
 "metadata": {
  "kernelspec": {
   "display_name": ".venv",
   "language": "python",
   "name": "python3"
  },
  "language_info": {
   "codemirror_mode": {
    "name": "ipython",
    "version": 3
   },
   "file_extension": ".py",
   "mimetype": "text/x-python",
   "name": "python",
   "nbconvert_exporter": "python",
   "pygments_lexer": "ipython3",
   "version": "3.11.0"
  }
 },
 "nbformat": 4,
 "nbformat_minor": 5
}
